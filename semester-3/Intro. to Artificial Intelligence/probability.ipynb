{
 "cells": [
  {
   "cell_type": "code",
   "execution_count": 1,
   "metadata": {},
   "outputs": [],
   "source": [
    "from itertools import product"
   ]
  },
  {
   "cell_type": "code",
   "execution_count": 2,
   "metadata": {},
   "outputs": [
    {
     "data": {
      "text/plain": [
       "[(1, 'a'),\n",
       " (1, 'b'),\n",
       " (1, 'c'),\n",
       " (1, 'd'),\n",
       " (2, 'a'),\n",
       " (2, 'b'),\n",
       " (2, 'c'),\n",
       " (2, 'd'),\n",
       " (3, 'a'),\n",
       " (3, 'b'),\n",
       " (3, 'c'),\n",
       " (3, 'd')]"
      ]
     },
     "execution_count": 2,
     "metadata": {},
     "output_type": "execute_result"
    }
   ],
   "source": [
    "list(product([1,2,3],['a','b','c','d']))"
   ]
  },
  {
   "cell_type": "code",
   "execution_count": 3,
   "metadata": {},
   "outputs": [
    {
     "data": {
      "text/plain": [
       "{('H', 'H', 'H'),\n",
       " ('H', 'H', 'T'),\n",
       " ('H', 'T', 'H'),\n",
       " ('H', 'T', 'T'),\n",
       " ('T', 'H', 'H'),\n",
       " ('T', 'H', 'T'),\n",
       " ('T', 'T', 'H'),\n",
       " ('T', 'T', 'T')}"
      ]
     },
     "execution_count": 3,
     "metadata": {},
     "output_type": "execute_result"
    }
   ],
   "source": [
    "n=3\n",
    "omega=set(product(['H','T'], repeat=n))\n",
    "omega"
   ]
  },
  {
   "cell_type": "code",
   "execution_count": 4,
   "metadata": {},
   "outputs": [
    {
     "data": {
      "text/plain": [
       "{('H', 'H', 'H'), ('H', 'H', 'T'), ('T', 'H', 'H'), ('T', 'H', 'T')}"
      ]
     },
     "execution_count": 4,
     "metadata": {},
     "output_type": "execute_result"
    }
   ],
   "source": [
    "a={om for om in omega if om[1]=='H'}\n",
    "a"
   ]
  },
  {
   "cell_type": "code",
   "execution_count": 5,
   "metadata": {},
   "outputs": [
    {
     "data": {
      "text/plain": [
       "{('H', 'T', 'T'), ('T', 'H', 'T'), ('T', 'T', 'H')}"
      ]
     },
     "execution_count": 5,
     "metadata": {},
     "output_type": "execute_result"
    }
   ],
   "source": [
    "b={om for om in omega if om.count('T')==2}\n",
    "b"
   ]
  },
  {
   "cell_type": "code",
   "execution_count": 6,
   "metadata": {},
   "outputs": [
    {
     "name": "stdout",
     "output_type": "stream",
     "text": [
      "Probability a: 0.5\n",
      "Probability b: 0.375\n"
     ]
    }
   ],
   "source": [
    "def prob(x):\n",
    "    return len(x)/len(omega)\n",
    "\n",
    "print(\"Probability a:\",prob(a))\n",
    "print(\"Probability b:\",prob(b))"
   ]
  },
  {
   "cell_type": "code",
   "execution_count": 7,
   "metadata": {},
   "outputs": [
    {
     "name": "stdout",
     "output_type": "stream",
     "text": [
      "Conditional Probability a,b: 0.3333333333333333\n",
      "Conditional Probability b,a: 0.25\n"
     ]
    }
   ],
   "source": [
    "def con_prob(x,y):\n",
    "    return len(x&y)/len(y)\n",
    "\n",
    "print(\"Conditional Probability a,b:\",con_prob(a,b))\n",
    "print(\"Conditional Probability b,a:\",con_prob(b,a))\n"
   ]
  },
  {
   "cell_type": "code",
   "execution_count": 8,
   "metadata": {},
   "outputs": [
    {
     "data": {
      "text/plain": [
       "0.1875"
      ]
     },
     "execution_count": 8,
     "metadata": {},
     "output_type": "execute_result"
    }
   ],
   "source": [
    "prob(a)*prob(b)"
   ]
  },
  {
   "cell_type": "code",
   "execution_count": 9,
   "metadata": {},
   "outputs": [
    {
     "data": {
      "text/plain": [
       "0.125"
      ]
     },
     "execution_count": 9,
     "metadata": {},
     "output_type": "execute_result"
    }
   ],
   "source": [
    "prob(a & b)"
   ]
  },
  {
   "cell_type": "code",
   "execution_count": 10,
   "metadata": {},
   "outputs": [],
   "source": [
    "def are_indp(x,y):\n",
    "    return prob(x&y)== prob(x)*prob(y)"
   ]
  },
  {
   "cell_type": "code",
   "execution_count": 11,
   "metadata": {},
   "outputs": [
    {
     "name": "stdout",
     "output_type": "stream",
     "text": [
      "Checking dependancy of a and b:  False\n"
     ]
    }
   ],
   "source": [
    "print(\"Checking dependancy of a and b: \", are_indp(a,b))"
   ]
  },
  {
   "cell_type": "code",
   "execution_count": 12,
   "metadata": {},
   "outputs": [
    {
     "name": "stdout",
     "output_type": "stream",
     "text": [
      "The probability when a coin is tossed 3 times and atleast 1 head is obtained is: 0.875\n"
     ]
    }
   ],
   "source": [
    "# question 1\n",
    "\n",
    "from itertools import product\n",
    "n=3\n",
    "omega=set(product(['H','T'], repeat=n))\n",
    "a={om for om in omega if om.count('H')==1 or om.count('H')==2 or om.count('H')==3}\n",
    "print(\"The probability when a coin is tossed 3 times and atleast 1 head is obtained is:\", prob(a))"
   ]
  },
  {
   "cell_type": "code",
   "execution_count": 13,
   "metadata": {},
   "outputs": [
    {
     "name": "stdout",
     "output_type": "stream",
     "text": [
      "The probability of getting a numbered card when the card is drawn from a pack of 52 cards is: 0.6923076923076923\n"
     ]
    }
   ],
   "source": [
    "# question 2\n",
    "total_cards=52\n",
    "Numbered_cards={2,3,4,5,6,7,8,9,10}\n",
    "def prob(x):\n",
    "    return ((len(x))*4)/total_cards\n",
    "\n",
    "print(\"The probability of getting a numbered card when the card is drawn from a pack of 52 cards is:\",prob(Numbered_cards)) "
   ]
  },
  {
   "cell_type": "code",
   "execution_count": 14,
   "metadata": {},
   "outputs": [
    {
     "name": "stdout",
     "output_type": "stream",
     "text": [
      "The probability that the first ball is green and second is red is: 0.26515151515151514\n"
     ]
    }
   ],
   "source": [
    "# question 3\n",
    "green_balls=5\n",
    "red_balls=7\n",
    "total=12\n",
    "def prob(x):\n",
    "    return x/total\n",
    "\n",
    "prob_green=prob(green_balls)\n",
    "\n",
    "total=total-1\n",
    "prob_red=prob(red_balls)\n",
    "\n",
    "print(\"The probability that the first ball is green and second is red is:\", prob_green*prob_red) #35/132"
   ]
  },
  {
   "cell_type": "code",
   "execution_count": 15,
   "metadata": {},
   "outputs": [
    {
     "name": "stdout",
     "output_type": "stream",
     "text": [
      "The probability of getting 1 Honors card is: 0.3076923076923077\n",
      "The probability of getting 1 Face card is: 0.23076923076923078\n"
     ]
    }
   ],
   "source": [
    "# question 4\n",
    "from itertools import product\n",
    "total_cards=52\n",
    "honor_card={'A','J','Q','K'}\n",
    "face_card={'J','Q','K'}\n",
    "\n",
    "def prob(a):\n",
    "    return (len(a)*4)/total_cards\n",
    "\n",
    "print(\"The probability of getting 1 Honors card is:\",prob(honor_card))   #4/13\n",
    "print(\"The probability of getting 1 Face card is:\",prob(face_card))      #3/13"
   ]
  },
  {
   "cell_type": "code",
   "execution_count": 19,
   "metadata": {},
   "outputs": [
    {
     "name": "stdout",
     "output_type": "stream",
     "text": [
      "91\n",
      "216\n",
      "Probability of getting atleast one 4 on dice, when 3 dice are rolled is:  0.4212962962962963\n"
     ]
    }
   ],
   "source": [
    "# question 6\n",
    "\n",
    "outcomes=list(product([1,2,3,4,5,6],[1,2,3,4,5,6],[1,2,3,4,5,6]))\n",
    "\n",
    "a={om for om in outcomes if om.count(4)==1 or om.count(4)==2 or om.count(4)==3}\n",
    "print(len(a))\n",
    "print(len(outcomes))\n",
    "def prob(input):\n",
    "    return len(input)/len(outcomes)\n",
    "\n",
    "print(\"Probability of getting atleast one 4 on dice, when 3 dice are rolled is: \", prob(a))    #91/216\n"
   ]
  },
  {
   "cell_type": "code",
   "execution_count": 20,
   "metadata": {},
   "outputs": [
    {
     "name": "stdout",
     "output_type": "stream",
     "text": [
      "The probability that the problem is solved is: 0.8299319727891157\n"
     ]
    }
   ],
   "source": [
    "# question 7\n",
    "person_p=2/7\n",
    "person_q=4/7\n",
    "person_r=4/9\n",
    "\n",
    "def prob(a,b,c):\n",
    "    return (1-(a*b*c))\n",
    "\n",
    "person_not_p=1-person_p\n",
    "person_not_q=1-person_q\n",
    "person_not_r=1-person_r\n",
    "print(\"The probability that the problem is solved is:\",prob(person_not_p,person_not_q,person_not_r))"
   ]
  },
  {
   "cell_type": "code",
   "execution_count": 21,
   "metadata": {},
   "outputs": [
    {
     "name": "stdout",
     "output_type": "stream",
     "text": [
      "The probability of two particular persons sitting together is: 0.14285714285714285\n"
     ]
    }
   ],
   "source": [
    "# question 8\n",
    "\n",
    "def factorial(n):\n",
    "    return 1 if (n==1 or n==0) else n * factorial(n - 1);\n",
    "\n",
    "people=15\n",
    "ways=factorial(people-1)\n",
    "#print(ways)\n",
    "\n",
    "def prob(a):\n",
    "    return factorial(a-2)*factorial(2)/ways\n",
    "\n",
    "print(\"The probability of two particular persons sitting together is:\", prob(people))\n"
   ]
  },
  {
   "cell_type": "code",
   "execution_count": null,
   "metadata": {},
   "outputs": [],
   "source": []
  }
 ],
 "metadata": {
  "kernelspec": {
   "display_name": "Python 3",
   "language": "python",
   "name": "python3"
  },
  "language_info": {
   "codemirror_mode": {
    "name": "ipython",
    "version": 3
   },
   "file_extension": ".py",
   "mimetype": "text/x-python",
   "name": "python",
   "nbconvert_exporter": "python",
   "pygments_lexer": "ipython3",
   "version": "3.8.5"
  }
 },
 "nbformat": 4,
 "nbformat_minor": 4
}
