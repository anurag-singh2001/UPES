{
 "cells": [
  {
   "cell_type": "markdown",
   "metadata": {},
   "source": [
    "# Preprocessing"
   ]
  },
  {
   "cell_type": "markdown",
   "metadata": {},
   "source": [
    "Sentiment analysis for text data combined natural language processing (NLP) and machine learning techniques to assign weighted sentiment scores to the systems, topics, or categories within a sentence or document. In business setting, sentiment analysis is extremely helpful as it can help understand customer experiences, gauge public opinion, and monitor brand and product reputation."
   ]
  },
  {
   "cell_type": "markdown",
   "metadata": {},
   "source": [
    "## Setup\n",
    "Natural Language Toolkit (NLTK),\n",
    "Gensim.,\n",
    "CoreNLP.,\n",
    "spaCy.,\n",
    "TextBlob.,\n",
    "Pattern.,\n",
    "PyNLPl.\n",
    "\n",
    "we will be using the [Natural Language Toolkit (NLTK)](http://www.nltk.org/howto/twitter.html) package, an open-source Python library for natural language processing. It has modules for collecting, handling, and processing Twitter data.\n",
    "\n",
    "we will use a Twitter dataset that comes with NLTK. This dataset has been manually annotated and serves to establish baselines for models quickly. "
   ]
  },
  {
   "cell_type": "code",
   "execution_count": 1,
   "metadata": {},
   "outputs": [],
   "source": [
    "import nltk                                # Python library for NLP\n",
    "from nltk.corpus import twitter_samples    # sample Twitter dataset from NLTK\n",
    "import random                              # pseudo-random number generator"
   ]
  },
  {
   "cell_type": "markdown",
   "metadata": {},
   "source": [
    "## About the Twitter dataset\n",
    "\n",
    "The sample dataset from NLTK is separated into positive and negative tweets. It contains 5000 positive tweets and 5000 negative tweets exactly. The exact match between these classes is not a coincidence. The intention is to have a balanced dataset. That does not reflect the real distributions of positive and negative classes in live Twitter streams. It is just because balanced datasets simplify the design of most computational methods that are required for sentiment analysis. However, it is better to be aware that this balance of classes is artificial. \n",
    "\n",
    "--How to collect twitter data--\n",
    "\n",
    "https://www.nltk.org/howto/twitter.html\n",
    "\n",
    "https://www.nltk.org/howto/twitter.html#corpus_reader\n"
   ]
  },
  {
   "cell_type": "code",
   "execution_count": 3,
   "metadata": {},
   "outputs": [],
   "source": [
    "# nltk.download('twitter_samples')"
   ]
  },
  {
   "cell_type": "code",
   "execution_count": 4,
   "metadata": {},
   "outputs": [
    {
     "data": {
      "text/plain": [
       "['negative_tweets.json', 'positive_tweets.json', 'tweets.20150430-223406.json']"
      ]
     },
     "execution_count": 4,
     "metadata": {},
     "output_type": "execute_result"
    }
   ],
   "source": [
    "from nltk.corpus import twitter_samples\n",
    "twitter_samples.fileids()"
   ]
  },
  {
   "cell_type": "code",
   "execution_count": 8,
   "metadata": {},
   "outputs": [
    {
     "name": "stdout",
     "output_type": "stream",
     "text": [
      "{'contributors': None,\n",
      " 'coordinates': None,\n",
      " 'created_at': 'Fri Jul 24 10:42:49 +0000 2015',\n",
      " 'entities': {'hashtags': [], 'symbols': [], 'urls': [], 'user_mentions': []},\n",
      " 'favorite_count': 0,\n",
      " 'favorited': False,\n",
      " 'geo': None,\n",
      " 'id': 624530164626534400,\n",
      " 'id_str': '624530164626534400',\n",
      " 'in_reply_to_screen_name': None,\n",
      " 'in_reply_to_status_id': None,\n",
      " 'in_reply_to_status_id_str': None,\n",
      " 'in_reply_to_user_id': None,\n",
      " 'in_reply_to_user_id_str': None,\n",
      " 'is_quote_status': False,\n",
      " 'lang': 'en',\n",
      " 'metadata': {'iso_language_code': 'en', 'result_type': 'recent'},\n",
      " 'place': None,\n",
      " 'retweet_count': 0,\n",
      " 'retweeted': False,\n",
      " 'source': '<a href=\"https://mobile.twitter.com\" rel=\"nofollow\">Mobile Web '\n",
      "           '(M2)</a>',\n",
      " 'text': 'hopeless for tmr :(',\n",
      " 'truncated': False,\n",
      " 'user': {'contributors_enabled': False,\n",
      "          'created_at': 'Sun Mar 08 05:43:40 +0000 2015',\n",
      "          'default_profile': False,\n",
      "          'default_profile_image': False,\n",
      "          'description': '⇨ [V] TravelGency █ 2/4 Goddest from Girls Day █ 92L '\n",
      "                         '█ sucrp',\n",
      "          'entities': {'description': {'urls': []}},\n",
      "          'favourites_count': 196,\n",
      "          'follow_request_sent': False,\n",
      "          'followers_count': 1281,\n",
      "          'following': False,\n",
      "          'friends_count': 1264,\n",
      "          'geo_enabled': True,\n",
      "          'has_extended_profile': False,\n",
      "          'id': 3078803375,\n",
      "          'id_str': '3078803375',\n",
      "          'is_translation_enabled': False,\n",
      "          'is_translator': False,\n",
      "          'lang': 'id',\n",
      "          'listed_count': 3,\n",
      "          'location': 'wearegsd;favor;pucukfams;barbx',\n",
      "          'name': 'yuwra ✈ ',\n",
      "          'notifications': False,\n",
      "          'profile_background_color': '000000',\n",
      "          'profile_background_image_url': 'http://pbs.twimg.com/profile_background_images/585476378365014016/j1mvQu3c.png',\n",
      "          'profile_background_image_url_https': 'https://pbs.twimg.com/profile_background_images/585476378365014016/j1mvQu3c.png',\n",
      "          'profile_background_tile': True,\n",
      "          'profile_banner_url': 'https://pbs.twimg.com/profile_banners/3078803375/1433287528',\n",
      "          'profile_image_url': 'http://pbs.twimg.com/profile_images/622631732399898624/kmYsX_k1_normal.jpg',\n",
      "          'profile_image_url_https': 'https://pbs.twimg.com/profile_images/622631732399898624/kmYsX_k1_normal.jpg',\n",
      "          'profile_link_color': '000000',\n",
      "          'profile_sidebar_border_color': '000000',\n",
      "          'profile_sidebar_fill_color': '000000',\n",
      "          'profile_text_color': '000000',\n",
      "          'profile_use_background_image': True,\n",
      "          'protected': False,\n",
      "          'screen_name': 'yuwraxkim',\n",
      "          'statuses_count': 19710,\n",
      "          'time_zone': 'Jakarta',\n",
      "          'url': None,\n",
      "          'utc_offset': 25200,\n",
      "          'verified': False}}\n"
     ]
    }
   ],
   "source": [
    "from pprint import pprint\n",
    "pprint(twitter_samples.docs()[0])"
   ]
  },
  {
   "cell_type": "code",
   "execution_count": 9,
   "metadata": {},
   "outputs": [],
   "source": [
    "# select the set of positive and negative tweets\n",
    "# https://www.nltk.org/api/nltk.corpus.reader.twitter.html\n",
    "positive_tweets = twitter_samples.strings('positive_tweets.json')\n",
    "negative_tweets = twitter_samples.strings('negative_tweets.json')"
   ]
  },
  {
   "cell_type": "code",
   "execution_count": 10,
   "metadata": {},
   "outputs": [
    {
     "data": {
      "text/plain": [
       "list"
      ]
     },
     "execution_count": 10,
     "metadata": {},
     "output_type": "execute_result"
    }
   ],
   "source": [
    "# check some positive and negative tweets\n",
    "type(positive_tweets)"
   ]
  },
  {
   "cell_type": "code",
   "execution_count": 11,
   "metadata": {},
   "outputs": [
    {
     "data": {
      "text/plain": [
       "5000"
      ]
     },
     "execution_count": 11,
     "metadata": {},
     "output_type": "execute_result"
    }
   ],
   "source": [
    "# print total number of tweets\n",
    "len(positive_tweets)"
   ]
  },
  {
   "cell_type": "code",
   "execution_count": 13,
   "metadata": {},
   "outputs": [
    {
     "data": {
      "image/png": "[encoded data removed]",
      "text/plain": [
       "<Figure size 360x360 with 1 Axes>"
      ]
     },
     "metadata": {},
     "output_type": "display_data"
    }
   ],
   "source": [
    "# Try this\n",
    "# https://www.w3schools.com/python/matplotlib_pie_charts.asp\n",
    "import numpy as np\n",
    "import matplotlib.pyplot as plt           \n",
    "fig = plt.figure(figsize=(5, 5))\n",
    "quantity= np.array([20, 30, 10, 50, 34])\n",
    "my_labels= ['apple', 'orange', 'papaya', 'grapes', 'banana']\n",
    "plt.pie(quantity, labels=my_labels, autopct='%2.1f%%')\n",
    "plt.show()"
   ]
  },
  {
   "attachments": {
    "image.png": {
     "image/png": "[encoded data removed]"
    }
   },
   "cell_type": "markdown",
   "metadata": {},
   "source": [
    "![image.png](attachment:image.png)"
   ]
  },
  {
   "cell_type": "code",
   "execution_count": 14,
   "metadata": {},
   "outputs": [
    {
     "data": {
      "image/png": "[encoded data removed]",
      "text/plain": [
       "<Figure size 360x360 with 1 Axes>"
      ]
     },
     "metadata": {},
     "output_type": "display_data"
    }
   ],
   "source": [
    "# plot a pie chart of positive and negative tweets\n",
    "fig = plt.figure(figsize=(5, 5))\n",
    "\n",
    "data = [len(positive_tweets), len(negative_tweets)] \n",
    "labels = 'Positives', 'Negative'\n",
    "plt.pie(data, labels=labels, autopct='%2.1f%%', startangle=90)\n",
    "\n",
    "plt.show()"
   ]
  },
  {
   "cell_type": "markdown",
   "metadata": {},
   "source": [
    "## Looking at raw texts\n",
    "\n",
    "print one random positive and one random negative tweet.\n",
    "We have added a color mark at the beginning of the string to further distinguish the two. (Warning: This is taken from a public dataset of real tweets and a very small portion has explicit content.)"
   ]
  },
  {
   "cell_type": "code",
   "execution_count": 22,
   "metadata": {},
   "outputs": [
    {
     "name": "stdout",
     "output_type": "stream",
     "text": [
      "@rejectzmgc thank you so much! :)\n"
     ]
    }
   ],
   "source": [
    "# looking at random tweets\n",
    "print(positive_tweets[np.random.randint(0,5000)])"
   ]
  },
  {
   "cell_type": "code",
   "execution_count": 24,
   "metadata": {},
   "outputs": [
    {
     "name": "stdout",
     "output_type": "stream",
     "text": [
      "\u001b[92mSo ready for the weekend. Race track Saturday and dads work picnic Sunday then Monday hocking hills with mamma :))))\n",
      "\u001b[91m@mari_suunn dude :( I'm scared lol\n"
     ]
    }
   ],
   "source": [
    "# https://stackoverflow.com/questions/17771287/python-octal-escape-character-033-from-a-dictionary-value-translates-in-a-prin\n",
    "# print positive in greeen\n",
    "print('\\033[92m' + positive_tweets[random.randint(0,5000)])\n",
    "\n",
    "# print negative in red\n",
    "print('\\033[91m' + negative_tweets[random.randint(0,5000)])"
   ]
  },
  {
   "cell_type": "markdown",
   "metadata": {},
   "source": [
    "One observation you may have is the presence of [emoticons](https://en.wikipedia.org/wiki/Emoticon) and URLs in many of the tweets. This info will come in handy in the next steps."
   ]
  },
  {
   "cell_type": "markdown",
   "metadata": {},
   "source": [
    "## Preprocess raw text for Sentiment analysis\n",
    "\n",
    "https://berkeley-stat159-f17.github.io/stat159-f17/lectures/11-strings/11-nltk..html#First-pass"
   ]
  },
  {
   "cell_type": "markdown",
   "metadata": {},
   "source": [
    "Data preprocessing is one of the critical steps in any machine learning project. It includes cleaning and formatting the data before feeding into a machine learning algorithm. For NLP, the preprocessing steps are comprised of the following tasks:\n",
    "\n",
    "* Tokenizing the string\n",
    "* Lowercasing\n",
    "* Removing stop words and punctuation\n",
    "* Stemming\n",
    "\n"
   ]
  },
  {
   "cell_type": "code",
   "execution_count": null,
   "metadata": {},
   "outputs": [],
   "source": [
    "# nltk.download('stopwords')"
   ]
  },
  {
   "cell_type": "code",
   "execution_count": 25,
   "metadata": {},
   "outputs": [],
   "source": [
    "import re                                  # library for regular expression operations\n",
    "import string                              # for string operations\n",
    "from nltk.tokenize import TweetTokenizer   # module for tokenizing strings\n",
    "from nltk.corpus import stopwords          # module for stop words that come with NLTK\n",
    "from nltk.stem import PorterStemmer        # module for stemming"
   ]
  },
  {
   "cell_type": "markdown",
   "metadata": {},
   "source": [
    "### Claeaning-> Remove hyperlinks,  Twitter marks and styles\n",
    "\n",
    "Remove some substrings commonly used on the platform like the hashtag, retweet marks, and hyperlinks. We'll use the [re](https://docs.python.org/3/library/re.html) library to perform regular expression operations on our tweet. We'll define our search pattern and use the `sub()` method to remove matches by substituting with an empty character (i.e. `''`)\n",
    "\n",
    "Task- Look at the tweets and remove unnecessary characters"
   ]
  },
  {
   "cell_type": "code",
   "execution_count": 28,
   "metadata": {},
   "outputs": [
    {
     "name": "stdout",
     "output_type": "stream",
     "text": [
      "\u001b[92mMost recent trip to J&amp;K; totally loved it :D\n",
      "And that's 'Chenab' there which flows into Pakistan.\n",
      "#incredibleindia http://t.co/1EHnC4mxZL\n",
      "\u001b[94m\n",
      "Most recent trip to J&amp;K; totally loved it :D\n",
      "And that's 'Chenab' there which flows into Pakistan.\n",
      "incredibleindia \n"
     ]
    }
   ],
   "source": [
    "# https://towardsdatascience.com/regular-expressions-clearly-explained-with-examples-822d76b037b4#:~:text=Regular%20expression%20is%20not%20a,space%20characters%20to%20special%20characters.\n",
    "tweet = positive_tweets[random.randint(0,5000)]\n",
    "print('\\033[92m' + tweet)\n",
    "print('\\033[94m')\n",
    "# remove old style retweet text \"RT\"\n",
    "tweet2 = re.sub(r'^RT[\\s]+', '', tweet)\n",
    "tweet2 = re.sub(r'https?:\\/\\/.*[\\r\\n]*', '', tweet2)\n",
    "tweet2 = re.sub(r'#', '', tweet2)\n",
    "print(tweet2)"
   ]
  },
  {
   "cell_type": "markdown",
   "metadata": {},
   "source": [
    "### Tokenize the string\n",
    "Tokenization is the process by which a large quantity of text is divided into smaller parts called tokens. These tokens are very useful for finding patterns and are considered as a base step for stemming and lemmatization. T\n",
    "\n",
    "To tokenize means to split the strings into individual words without blanks or tabs. In this same step, we will also convert each word in the string to lower case. The [tokenize](https://www.nltk.org/api/nltk.tokenize.html#module-nltk.tokenize.casual) module from NLTK allows us to do these easily:"
   ]
  },
  {
   "cell_type": "markdown",
   "metadata": {},
   "source": [
    "Extra:\n",
    "    sentence and word tokenizer\n",
    "   "
   ]
  },
  {
   "cell_type": "code",
   "execution_count": null,
   "metadata": {},
   "outputs": [],
   "source": [
    "# Examples to practice-> sentence and word tokenizer"
   ]
  },
  {
   "cell_type": "code",
   "execution_count": 30,
   "metadata": {},
   "outputs": [],
   "source": [
    "from nltk.tokenize import sent_tokenize, word_tokenize, TweetTokenizer"
   ]
  },
  {
   "cell_type": "code",
   "execution_count": 31,
   "metadata": {},
   "outputs": [
    {
     "name": "stdout",
     "output_type": "stream",
     "text": [
      "['In the 75th year of our Independence, the world has recognised the\\nIndian economy as a ‘bright star’.', 'Our current year’s economic growth is\\nestimated to be at 7 per cent.', 'It is notable that this is the highest among all\\nthe major economies.', 'This is in spite of the massive slowdown globally\\ncaused by Covid-19 and a war.', 'The Indian economy is therefore on the right\\ntrack, and despite a time of challenges, heading towards a bright future.']\n"
     ]
    }
   ],
   "source": [
    "text = '''In the 75th year of our Independence, the world has recognised the\n",
    "Indian economy as a ‘bright star’. Our current year’s economic growth is\n",
    "estimated to be at 7 per cent. It is notable that this is the highest among all\n",
    "the major economies. This is in spite of the massive slowdown globally\n",
    "caused by Covid-19 and a war. The Indian economy is therefore on the right\n",
    "track, and despite a time of challenges, heading towards a bright future. \n",
    "'''\n",
    "print(sent_tokenize(text))"
   ]
  },
  {
   "cell_type": "code",
   "execution_count": null,
   "metadata": {},
   "outputs": [],
   "source": [
    "sentences=sent_tokenize(text)\n",
    "lst=[]\n",
    "for sen in sentences:\n",
    "    word=word_tokenize(sen)\n",
    "    lst.append(word)\n",
    "    \n",
    "print(lst)"
   ]
  },
  {
   "cell_type": "code",
   "execution_count": 32,
   "metadata": {},
   "outputs": [
    {
     "data": {
      "text/plain": [
       "'In the 75th year of our Independence, the world has recognised the\\nIndian economy as a ‘bright star’. Our current year’s economic growth is\\nestimated to be at 7 per cent. It is notable that this is the highest among all\\nthe major economies. This is in spite of the massive slowdown globally\\ncaused by Covid-19 and a war. The Indian economy is therefore on the right\\ntrack, and despite a time of challenges, heading towards a bright future. \\n'"
      ]
     },
     "execution_count": 32,
     "metadata": {},
     "output_type": "execute_result"
    }
   ],
   "source": [
    "text"
   ]
  },
  {
   "cell_type": "code",
   "execution_count": 33,
   "metadata": {},
   "outputs": [
    {
     "data": {
      "text/plain": [
       "[['In',\n",
       "  'the',\n",
       "  '75th',\n",
       "  'year',\n",
       "  'of',\n",
       "  'our',\n",
       "  'Independence',\n",
       "  ',',\n",
       "  'the',\n",
       "  'world',\n",
       "  'has',\n",
       "  'recognised',\n",
       "  'the',\n",
       "  'Indian',\n",
       "  'economy',\n",
       "  'as',\n",
       "  'a',\n",
       "  '‘',\n",
       "  'bright',\n",
       "  'star',\n",
       "  '’',\n",
       "  '.'],\n",
       " ['Our',\n",
       "  'current',\n",
       "  'year',\n",
       "  '’',\n",
       "  's',\n",
       "  'economic',\n",
       "  'growth',\n",
       "  'is',\n",
       "  'estimated',\n",
       "  'to',\n",
       "  'be',\n",
       "  'at',\n",
       "  '7',\n",
       "  'per',\n",
       "  'cent',\n",
       "  '.'],\n",
       " ['It',\n",
       "  'is',\n",
       "  'notable',\n",
       "  'that',\n",
       "  'this',\n",
       "  'is',\n",
       "  'the',\n",
       "  'highest',\n",
       "  'among',\n",
       "  'all',\n",
       "  'the',\n",
       "  'major',\n",
       "  'economies',\n",
       "  '.'],\n",
       " ['This',\n",
       "  'is',\n",
       "  'in',\n",
       "  'spite',\n",
       "  'of',\n",
       "  'the',\n",
       "  'massive',\n",
       "  'slowdown',\n",
       "  'globally',\n",
       "  'caused',\n",
       "  'by',\n",
       "  'Covid-19',\n",
       "  'and',\n",
       "  'a',\n",
       "  'war',\n",
       "  '.'],\n",
       " ['The',\n",
       "  'Indian',\n",
       "  'economy',\n",
       "  'is',\n",
       "  'therefore',\n",
       "  'on',\n",
       "  'the',\n",
       "  'right',\n",
       "  'track',\n",
       "  ',',\n",
       "  'and',\n",
       "  'despite',\n",
       "  'a',\n",
       "  'time',\n",
       "  'of',\n",
       "  'challenges',\n",
       "  ',',\n",
       "  'heading',\n",
       "  'towards',\n",
       "  'a',\n",
       "  'bright',\n",
       "  'future',\n",
       "  '.']]"
      ]
     },
     "execution_count": 33,
     "metadata": {},
     "output_type": "execute_result"
    }
   ],
   "source": [
    "words= [word_tokenize(sen) for sen in sent_tokenize(text)]\n",
    "words"
   ]
  },
  {
   "cell_type": "code",
   "execution_count": 34,
   "metadata": {},
   "outputs": [],
   "source": [
    "Ex1 = \"This is a cooool #dummysmiley: :-) :-P <3 and some arrows < > -> <-- @remy: This is waaaaayyyy too much for you!!!!!!\"\n",
    "Ex2 = \"I have a B.Tech degree in C.S.E\"\n",
    "Ex3 = \"A 5km ride costed us 500$\"\n",
    "Ex4 = \"Is that your address abc@upes.ac.in\""
   ]
  },
  {
   "cell_type": "code",
   "execution_count": 36,
   "metadata": {},
   "outputs": [
    {
     "name": "stdout",
     "output_type": "stream",
     "text": [
      "['A', '5km', 'ride', 'costed', 'us', '500', '$']\n",
      "\n",
      "['A', '5km', 'ride', 'costed', 'us', '500', '$']\n"
     ]
    }
   ],
   "source": [
    "print(word_tokenize(Ex3), end='\\n\\n')\n",
    "\n",
    "obj=TweetTokenizer()\n",
    "print(obj.tokenize(Ex3))"
   ]
  },
  {
   "attachments": {
    "image.png": {
     "image/png": "[encoded data removed]"
    }
   },
   "cell_type": "markdown",
   "metadata": {},
   "source": [
    "![image.png](attachment:image.png)"
   ]
  },
  {
   "cell_type": "markdown",
   "metadata": {},
   "source": [
    "https://www.nltk.org/api/nltk.tokenize.html"
   ]
  },
  {
   "cell_type": "code",
   "execution_count": 37,
   "metadata": {},
   "outputs": [
    {
     "name": "stdout",
     "output_type": "stream",
     "text": [
      "['Most', 'recent', 'trip', 'to', 'J', '&', 'amp', ';', 'K', ';', 'totally', 'loved', 'it', ':', 'D', 'And', 'that', \"'s\", \"'Chenab\", \"'\", 'there', 'which', 'flows', 'into', 'Pakistan', '.', '#', 'incredibleindia', 'http', ':', '//t.co/1EHnC4mxZL']\n",
      "\n",
      "['Most', 'recent', 'trip', 'to', 'J', '&', 'K', ';', 'totally', 'loved', 'it', ':D', 'And', \"that's\", \"'\", 'Chenab', \"'\", 'there', 'which', 'flows', 'into', 'Pakistan', '.', '#incredibleindia', 'http://t.co/1EHnC4mxZL']\n"
     ]
    }
   ],
   "source": [
    "# tweet= positive_tweets[random.randint(0,5000)]\n",
    "# print(tweet, end = '\\n\\n')\n",
    "\n",
    "print(word_tokenize(tweet),end = '\\n\\n')\n",
    "print(obj.tokenize(tweet))"
   ]
  },
  {
   "cell_type": "code",
   "execution_count": 38,
   "metadata": {},
   "outputs": [
    {
     "name": "stdout",
     "output_type": "stream",
     "text": [
      "\n",
      "\u001b[92mMost recent trip to J&amp;K; totally loved it :D\n",
      "And that's 'Chenab' there which flows into Pakistan.\n",
      "incredibleindia \n",
      "\u001b[94m\n",
      "\n",
      "Tokenized string:\n",
      "['most', 'recent', 'trip', 'to', 'j', '&', 'k', ';', 'totally', 'loved', 'it', ':D', 'and', \"that's\", \"'\", 'chenab', \"'\", 'there', 'which', 'flows', 'into', 'pakistan', '.', 'incredibleindia']\n"
     ]
    }
   ],
   "source": [
    "print()\n",
    "print('\\033[92m' + tweet2)\n",
    "print('\\033[94m')\n",
    "\n",
    "# instantiate tokenizer class\n",
    "tokenizer = TweetTokenizer(preserve_case=False, strip_handles=True, reduce_len=True)\n",
    "\n",
    "# tokenize tweets\n",
    "tweet_tokens = tokenizer.tokenize(tweet2)\n",
    "\n",
    "print()\n",
    "print('Tokenized string:')\n",
    "print(tweet_tokens)"
   ]
  },
  {
   "cell_type": "markdown",
   "metadata": {},
   "source": [
    "### Remove stop words and punctuations\n",
    "\n",
    "The next step is to remove stop words and punctuation. \n",
    "Stop words are words that don't add significant meaning to the text."
   ]
  },
  {
   "cell_type": "code",
   "execution_count": 39,
   "metadata": {},
   "outputs": [
    {
     "name": "stdout",
     "output_type": "stream",
     "text": [
      "Stop words\n",
      "\n",
      "['i', 'me', 'my', 'myself', 'we', 'our', 'ours', 'ourselves', 'you', \"you're\", \"you've\", \"you'll\", \"you'd\", 'your', 'yours', 'yourself', 'yourselves', 'he', 'him', 'his', 'himself', 'she', \"she's\", 'her', 'hers', 'herself', 'it', \"it's\", 'its', 'itself', 'they', 'them', 'their', 'theirs', 'themselves', 'what', 'which', 'who', 'whom', 'this', 'that', \"that'll\", 'these', 'those', 'am', 'is', 'are', 'was', 'were', 'be', 'been', 'being', 'have', 'has', 'had', 'having', 'do', 'does', 'did', 'doing', 'a', 'an', 'the', 'and', 'but', 'if', 'or', 'because', 'as', 'until', 'while', 'of', 'at', 'by', 'for', 'with', 'about', 'against', 'between', 'into', 'through', 'during', 'before', 'after', 'above', 'below', 'to', 'from', 'up', 'down', 'in', 'out', 'on', 'off', 'over', 'under', 'again', 'further', 'then', 'once', 'here', 'there', 'when', 'where', 'why', 'how', 'all', 'any', 'both', 'each', 'few', 'more', 'most', 'other', 'some', 'such', 'no', 'nor', 'not', 'only', 'own', 'same', 'so', 'than', 'too', 'very', 's', 't', 'can', 'will', 'just', 'don', \"don't\", 'should', \"should've\", 'now', 'd', 'll', 'm', 'o', 're', 've', 'y', 'ain', 'aren', \"aren't\", 'couldn', \"couldn't\", 'didn', \"didn't\", 'doesn', \"doesn't\", 'hadn', \"hadn't\", 'hasn', \"hasn't\", 'haven', \"haven't\", 'isn', \"isn't\", 'ma', 'mightn', \"mightn't\", 'mustn', \"mustn't\", 'needn', \"needn't\", 'shan', \"shan't\", 'shouldn', \"shouldn't\", 'wasn', \"wasn't\", 'weren', \"weren't\", 'won', \"won't\", 'wouldn', \"wouldn't\"]\n",
      "\n",
      "Punctuation\n",
      "\n",
      "!\"#$%&'()*+,-./:;<=>?@[\\]^_`{|}~\n"
     ]
    }
   ],
   "source": [
    "#Import the english stop words list from NLTK\n",
    "stopwords_english = stopwords.words('english') \n",
    "\n",
    "print('Stop words\\n')\n",
    "print(stopwords_english)\n",
    "\n",
    "print('\\nPunctuation\\n')\n",
    "print(string.punctuation)"
   ]
  },
  {
   "cell_type": "markdown",
   "metadata": {},
   "source": [
    "We can see that the stop words list above contains some words that could be important in some contexts. \n",
    "These could be words like _i, not, between, because, won, against_. You might need to customize the stop words list for some applications. For our exercise, we will use the entire list.\n",
    "\n",
    "For the punctuation, we saw earlier that certain groupings like ':)' and '...'  should be retained when dealing with tweets because they are used to express emotions. In other contexts, like medical analysis, these should also be removed.\n",
    "\n",
    "Time to clean up our tokenized tweet!"
   ]
  },
  {
   "cell_type": "code",
   "execution_count": 40,
   "metadata": {},
   "outputs": [
    {
     "name": "stdout",
     "output_type": "stream",
     "text": [
      "\n",
      "\u001b[92m\n",
      "['most', 'recent', 'trip', 'to', 'j', '&', 'k', ';', 'totally', 'loved', 'it', ':D', 'and', \"that's\", \"'\", 'chenab', \"'\", 'there', 'which', 'flows', 'into', 'pakistan', '.', 'incredibleindia']\n",
      "\u001b[94m\n",
      "removed stop words and punctuation:\n",
      "['recent', 'trip', 'j', 'k', 'totally', 'loved', ':D', \"that's\", 'chenab', 'flows', 'pakistan', 'incredibleindia']\n"
     ]
    }
   ],
   "source": [
    "print()\n",
    "print('\\033[92m')\n",
    "print(tweet_tokens)\n",
    "print('\\033[94m')\n",
    "\n",
    "tweets_clean = []\n",
    "\n",
    "for word in tweet_tokens: # Go through every word in your tokens list\n",
    "    if (word not in stopwords_english and  word not in string.punctuation):  \n",
    "        tweets_clean.append(word)\n",
    "\n",
    "print('removed stop words and punctuation:')\n",
    "print(tweets_clean)"
   ]
  },
  {
   "cell_type": "markdown",
   "metadata": {},
   "source": [
    "Please note that the words **happy** and **sunny** in this list are correctly spelled. "
   ]
  },
  {
   "cell_type": "markdown",
   "metadata": {},
   "source": [
    "### Stemming\n",
    "\n",
    "Stemming is the process of converting a word to its most general form, or stem. This helps in reducing the size of our vocabulary.\n",
    "\n",
    "Consider the words: \n",
    " * **learn**\n",
    " * **learn**ing\n",
    " * **learn**ed\n",
    " * **learn**t\n",
    " \n",
    "All these words are stemmed from its common root **learn**. However, in some cases, the stemming process produces words that are not correct spellings of the root word. For example, **happi** and **sunni**. That's because it chooses the most common stem for related words. For example, we can look at the set of words that comprises the different forms of happy:\n",
    "\n",
    " * **happ**y\n",
    " * **happi**ness\n",
    " * **happi**er\n",
    " \n",
    "We can see that the prefix **happi** is more commonly used. We cannot choose **happ** because it is the stem of unrelated words like **happen**.\n",
    " \n",
    "NLTK has different modules for stemming and we will be using the [PorterStemmer](https://www.nltk.org/api/nltk.stem.html#module-nltk.stem.porter) module which uses the [Porter Stemming Algorithm](https://tartarus.org/martin/PorterStemmer/). Let's see how we can use it in the cell below."
   ]
  },
  {
   "cell_type": "code",
   "execution_count": 41,
   "metadata": {},
   "outputs": [
    {
     "name": "stdout",
     "output_type": "stream",
     "text": [
      "\n",
      "\u001b[92m\n",
      "['recent', 'trip', 'j', 'k', 'totally', 'loved', ':D', \"that's\", 'chenab', 'flows', 'pakistan', 'incredibleindia']\n",
      "\u001b[94m\n",
      "stemmed words:\n",
      "['recent', 'trip', 'j', 'k', 'total', 'love', ':d', \"that'\", 'chenab', 'flow', 'pakistan', 'incredibleindia']\n"
     ]
    }
   ],
   "source": [
    "print()\n",
    "print('\\033[92m')\n",
    "print(tweets_clean)\n",
    "print('\\033[94m')\n",
    "\n",
    "# Instantiate stemming class\n",
    "obj = PorterStemmer() \n",
    "\n",
    "# Create an empty list to store the stems\n",
    "tweets_stem = [] \n",
    "\n",
    "for word in tweets_clean:\n",
    "    stem_word = obj.stem(word)  # stemming word\n",
    "    tweets_stem.append(stem_word)  # append to the list\n",
    "\n",
    "print('stemmed words:')\n",
    "print(tweets_stem)"
   ]
  },
  {
   "cell_type": "markdown",
   "metadata": {},
   "source": [
    "That's it! Now we have a set of words we can feed into to the next stage of our machine learning project."
   ]
  },
  {
   "cell_type": "markdown",
   "metadata": {},
   "source": [
    "## process_tweet()\n",
    "\n",
    "As shown above, preprocessing consists of multiple steps before you arrive at the final list of words. We will not ask you to replicate these however. In the week's assignment, you will use the function `process_tweet(tweet)` available in _utils.py_. We encourage you to open the file and you'll see that this function's implementation is very similar to the steps above.\n",
    "\n",
    "To obtain the same result as in the previous code cells, you will only need to call the function `process_tweet()`. Let's do that in the next cell."
   ]
  },
  {
   "cell_type": "code",
   "execution_count": null,
   "metadata": {},
   "outputs": [],
   "source": [
    "# create dict from text file\n",
    "full_form= {}"
   ]
  },
  {
   "cell_type": "code",
   "execution_count": null,
   "metadata": {},
   "outputs": [],
   "source": [
    "def process_tweet(tweet):\n",
    "    \"\"\"Process tweet function.\n",
    "    Input:\n",
    "        tweet: a string containing a tweet\n",
    "    Output:\n",
    "        tweets_clean: a list of words containing the processed tweet\n",
    "\n",
    "    \"\"\"\n",
    "    stemmer = PorterStemmer()\n",
    "    stopwords_english = stopwords.words('english')\n",
    "    # remove stock market tickers like $GE\n",
    "    tweet = re.sub(r'\\$\\w*', '', tweet)\n",
    "    # remove old style retweet text \"RT\"\n",
    "    tweet = re.sub(r'^RT[\\s]+', '', tweet)\n",
    "    # remove hyperlinks\n",
    "    tweet = re.sub(r'https?:\\/\\/.*[\\r\\n]*', '', tweet)\n",
    "    # remove hashtags\n",
    "    # only removing the hash # sign from the word\n",
    "    tweet = re.sub(r'#', '', tweet)\n",
    "    # tokenize tweets\n",
    "    tokenizer = TweetTokenizer(preserve_case=False, strip_handles=True,\n",
    "                               reduce_len=True)\n",
    "    tweet_tokens = tokenizer.tokenize(tweet)\n",
    "\n",
    "    tweets_clean = []\n",
    "    for word in tweet_tokens:\n",
    "        if (word not in stopwords_english and word not in string.punctuation): \n",
    "            stem_word = stemmer.stem(word)  \n",
    "            tweets_clean.append(stem_word)\n",
    "\n",
    "    return tweets_clean"
   ]
  },
  {
   "cell_type": "code",
   "execution_count": null,
   "metadata": {},
   "outputs": [],
   "source": [
    "pos_tokens=[process_tweet(tweet) for tweet in positive_tweets]\n",
    "neg_tokens=[process_tweet(tweet) for tweet in negative_tweets]"
   ]
  },
  {
   "cell_type": "markdown",
   "metadata": {},
   "source": [
    "# Additional steps"
   ]
  },
  {
   "cell_type": "code",
   "execution_count": null,
   "metadata": {},
   "outputs": [],
   "source": [
    "\n",
    "# # code for converting short form to full form\n",
    "# def full_form(tweet):\n",
    "#     new_tweet=[]\n",
    "#     for word in tweet.split():\n",
    "#         #             check for full forms\n",
    "#         if word.upper in full_form:\n",
    "#             new_tweet.append(full_form[word.upper()])\n",
    "#         else:\n",
    "#             new_tweet.append(word)\n",
    "            \n",
    "#     return \" \".join(new_tweet)"
   ]
  },
  {
   "cell_type": "code",
   "execution_count": null,
   "metadata": {},
   "outputs": [],
   "source": [
    "# !pip install textblob"
   ]
  },
  {
   "cell_type": "code",
   "execution_count": null,
   "metadata": {},
   "outputs": [],
   "source": [
    "# speel correction-> using TextBlob, or spacy, nltk etc.\n",
    "# from textblob import TextBlob\n",
    "# txt=TextBlob(\"find notebuk retun ntebook\")\n",
    "# txt.correct().string"
   ]
  },
  {
   "cell_type": "code",
   "execution_count": null,
   "metadata": {},
   "outputs": [],
   "source": [
    "# remove emojis\n",
    "# !pip install emoji\n",
    "# import emoji\n",
    "# emoji.demojize('learning is fun 🤣')"
   ]
  },
  {
   "cell_type": "code",
   "execution_count": null,
   "metadata": {},
   "outputs": [],
   "source": [
    "positive_tweets[0]"
   ]
  }
 ],
 "metadata": {
  "kernelspec": {
   "display_name": "Python 3 (ipykernel)",
   "language": "python",
   "name": "python3"
  },
  "language_info": {
   "codemirror_mode": {
    "name": "ipython",
    "version": 3
   },
   "file_extension": ".py",
   "mimetype": "text/x-python",
   "name": "python",
   "nbconvert_exporter": "python",
   "pygments_lexer": "ipython3",
   "version": "3.9.7"
  }
 },
 "nbformat": 4,
 "nbformat_minor": 2
}
