{
 "cells": [
  {
   "cell_type": "code",
   "execution_count": 1,
   "id": "743af791",
   "metadata": {
    "execution": {
     "iopub.execute_input": "2023-05-16T02:18:05.243769Z",
     "iopub.status.busy": "2023-05-16T02:18:05.243281Z",
     "iopub.status.idle": "2023-05-16T02:18:05.258255Z",
     "shell.execute_reply": "2023-05-16T02:18:05.257140Z"
    },
    "papermill": {
     "duration": 0.058722,
     "end_time": "2023-05-16T02:18:05.261490",
     "exception": false,
     "start_time": "2023-05-16T02:18:05.202768",
     "status": "completed"
    },
    "tags": []
   },
   "outputs": [],
   "source": [
    "import os\n",
    "\n",
    "INPUT_DIR = '../input/hasoc-2020-en/'\n",
    "OUTPUT_DIR = './'\n",
    "if not os.path.exists(OUTPUT_DIR):\n",
    "    os.makedirs(OUTPUT_DIR)"
   ]
  },
  {
   "cell_type": "code",
   "execution_count": 2,
   "id": "94706fe6",
   "metadata": {
    "_cell_guid": "b1076dfc-b9ad-4769-8c92-a6c4dae69d19",
    "_uuid": "8f2839f25d086af736a60e9eeb907d3b93b6e0e5",
    "execution": {
     "iopub.execute_input": "2023-05-16T02:18:05.332029Z",
     "iopub.status.busy": "2023-05-16T02:18:05.331591Z",
     "iopub.status.idle": "2023-05-16T02:18:13.975769Z",
     "shell.execute_reply": "2023-05-16T02:18:13.974486Z"
    },
    "papermill": {
     "duration": 8.682943,
     "end_time": "2023-05-16T02:18:13.978398",
     "exception": false,
     "start_time": "2023-05-16T02:18:05.295455",
     "status": "completed"
    },
    "tags": []
   },
   "outputs": [],
   "source": [
    "import pandas as pd\n",
    "import numpy as np\n",
    "import xgboost as xgb\n",
    "from tqdm import tqdm\n",
    "from sklearn.svm import SVC,LinearSVC\n",
    "import string\n",
    "from sklearn.feature_extraction.text import TfidfVectorizer, CountVectorizer\n",
    "from sklearn.decomposition import TruncatedSVD\n",
    "from sklearn.linear_model import LogisticRegression\n",
    "from sklearn.model_selection import train_test_split\n",
    "from sklearn.metrics import accuracy_score,roc_auc_score\n",
    "from sklearn.naive_bayes import MultinomialNB\n",
    "from sklearn.ensemble import RandomForestClassifier\n",
    "from nltk import word_tokenize\n",
    "from nltk.stem.snowball import SnowballStemmer\n",
    "from nltk.corpus import stopwords\n",
    "from scipy import stats\n",
    "from sklearn.preprocessing import LabelEncoder\n",
    "import keras.layers as L\n",
    "from keras import Model\n",
    "stop_words = stopwords.words('english')"
   ]
  },
  {
   "cell_type": "markdown",
   "id": "9cf4b824",
   "metadata": {
    "papermill": {
     "duration": 0.033793,
     "end_time": "2023-05-16T02:18:14.047206",
     "exception": false,
     "start_time": "2023-05-16T02:18:14.013413",
     "status": "completed"
    },
    "tags": []
   },
   "source": [
    "# change cfg and run train_func to get result"
   ]
  },
  {
   "cell_type": "markdown",
   "id": "1c3bc295",
   "metadata": {
    "papermill": {
     "duration": 0.034362,
     "end_time": "2023-05-16T02:18:14.115372",
     "exception": false,
     "start_time": "2023-05-16T02:18:14.081010",
     "status": "completed"
    },
    "tags": []
   },
   "source": [
    "note all cells till train_func must be run in sequence last 2 cell are for voting<br>\n",
    "dataset used can be found at:- https://www.kaggle.com/datasets/mrigendraagrawal/liar-dataset"
   ]
  },
  {
   "cell_type": "code",
   "execution_count": 3,
   "id": "18c66101",
   "metadata": {
    "execution": {
     "iopub.execute_input": "2023-05-16T02:18:14.184979Z",
     "iopub.status.busy": "2023-05-16T02:18:14.184557Z",
     "iopub.status.idle": "2023-05-16T02:18:16.479872Z",
     "shell.execute_reply": "2023-05-16T02:18:16.478544Z"
    },
    "papermill": {
     "duration": 2.3344,
     "end_time": "2023-05-16T02:18:16.483465",
     "exception": false,
     "start_time": "2023-05-16T02:18:14.149065",
     "status": "completed"
    },
    "tags": []
   },
   "outputs": [
    {
     "name": "stdout",
     "output_type": "stream",
     "text": [
      "Archive:  /kaggle/input/sentiment-analysis-on-movie-reviews/train.tsv.zip\r\n",
      "  inflating: train.tsv               \r\n",
      "Archive:  /kaggle/input/sentiment-analysis-on-movie-reviews/test.tsv.zip\r\n",
      "  inflating: test.tsv                \r\n"
     ]
    }
   ],
   "source": [
    "!unzip /kaggle/input/sentiment-analysis-on-movie-reviews/train.tsv.zip\n",
    "!unzip /kaggle/input/sentiment-analysis-on-movie-reviews/test.tsv.zip"
   ]
  },
  {
   "cell_type": "code",
   "execution_count": 4,
   "id": "39ff1c51",
   "metadata": {
    "execution": {
     "iopub.execute_input": "2023-05-16T02:18:16.563721Z",
     "iopub.status.busy": "2023-05-16T02:18:16.562925Z",
     "iopub.status.idle": "2023-05-16T02:18:16.568949Z",
     "shell.execute_reply": "2023-05-16T02:18:16.568176Z"
    },
    "papermill": {
     "duration": 0.049037,
     "end_time": "2023-05-16T02:18:16.571449",
     "exception": false,
     "start_time": "2023-05-16T02:18:16.522412",
     "status": "completed"
    },
    "tags": []
   },
   "outputs": [],
   "source": [
    "class CFG:\n",
    "    model = 'SVM' #(LogisticRegression,SVM,'naive_bayes','xgboost','RandomForest')\n",
    "    method = 'TFid'   #(TFid,CountVectorizer)"
   ]
  },
  {
   "cell_type": "code",
   "execution_count": 5,
   "id": "fdf1f532",
   "metadata": {
    "execution": {
     "iopub.execute_input": "2023-05-16T02:18:16.648151Z",
     "iopub.status.busy": "2023-05-16T02:18:16.647405Z",
     "iopub.status.idle": "2023-05-16T02:18:16.653143Z",
     "shell.execute_reply": "2023-05-16T02:18:16.652380Z"
    },
    "papermill": {
     "duration": 0.046,
     "end_time": "2023-05-16T02:18:16.655630",
     "exception": false,
     "start_time": "2023-05-16T02:18:16.609630",
     "status": "completed"
    },
    "tags": []
   },
   "outputs": [],
   "source": [
    "# ====================================================\n",
    "# Utils\n",
    "# ====================================================\n",
    "def get_score(y_true, y_pred):\n",
    "    score = accuracy_score(y_true, y_pred)\n",
    "    return score\n"
   ]
  },
  {
   "cell_type": "code",
   "execution_count": 6,
   "id": "ac8e4bfe",
   "metadata": {
    "execution": {
     "iopub.execute_input": "2023-05-16T02:18:16.730320Z",
     "iopub.status.busy": "2023-05-16T02:18:16.729585Z",
     "iopub.status.idle": "2023-05-16T02:18:17.036220Z",
     "shell.execute_reply": "2023-05-16T02:18:17.035015Z"
    },
    "papermill": {
     "duration": 0.349022,
     "end_time": "2023-05-16T02:18:17.040304",
     "exception": false,
     "start_time": "2023-05-16T02:18:16.691282",
     "status": "completed"
    },
    "tags": []
   },
   "outputs": [
    {
     "data": {
      "text/html": [
       "<div>\n",
       "<style scoped>\n",
       "    .dataframe tbody tr th:only-of-type {\n",
       "        vertical-align: middle;\n",
       "    }\n",
       "\n",
       "    .dataframe tbody tr th {\n",
       "        vertical-align: top;\n",
       "    }\n",
       "\n",
       "    .dataframe thead th {\n",
       "        text-align: right;\n",
       "    }\n",
       "</style>\n",
       "<table border=\"1\" class=\"dataframe\">\n",
       "  <thead>\n",
       "    <tr style=\"text-align: right;\">\n",
       "      <th></th>\n",
       "      <th>PhraseId</th>\n",
       "      <th>SentenceId</th>\n",
       "      <th>Phrase</th>\n",
       "      <th>Sentiment</th>\n",
       "    </tr>\n",
       "  </thead>\n",
       "  <tbody>\n",
       "    <tr>\n",
       "      <th>0</th>\n",
       "      <td>1</td>\n",
       "      <td>1</td>\n",
       "      <td>A series of escapades demonstrating the adage ...</td>\n",
       "      <td>1</td>\n",
       "    </tr>\n",
       "    <tr>\n",
       "      <th>1</th>\n",
       "      <td>2</td>\n",
       "      <td>1</td>\n",
       "      <td>A series of escapades demonstrating the adage ...</td>\n",
       "      <td>2</td>\n",
       "    </tr>\n",
       "    <tr>\n",
       "      <th>2</th>\n",
       "      <td>3</td>\n",
       "      <td>1</td>\n",
       "      <td>A series</td>\n",
       "      <td>2</td>\n",
       "    </tr>\n",
       "    <tr>\n",
       "      <th>3</th>\n",
       "      <td>4</td>\n",
       "      <td>1</td>\n",
       "      <td>A</td>\n",
       "      <td>2</td>\n",
       "    </tr>\n",
       "    <tr>\n",
       "      <th>4</th>\n",
       "      <td>5</td>\n",
       "      <td>1</td>\n",
       "      <td>series</td>\n",
       "      <td>2</td>\n",
       "    </tr>\n",
       "    <tr>\n",
       "      <th>...</th>\n",
       "      <td>...</td>\n",
       "      <td>...</td>\n",
       "      <td>...</td>\n",
       "      <td>...</td>\n",
       "    </tr>\n",
       "    <tr>\n",
       "      <th>156055</th>\n",
       "      <td>156056</td>\n",
       "      <td>8544</td>\n",
       "      <td>Hearst 's</td>\n",
       "      <td>2</td>\n",
       "    </tr>\n",
       "    <tr>\n",
       "      <th>156056</th>\n",
       "      <td>156057</td>\n",
       "      <td>8544</td>\n",
       "      <td>forced avuncular chortles</td>\n",
       "      <td>1</td>\n",
       "    </tr>\n",
       "    <tr>\n",
       "      <th>156057</th>\n",
       "      <td>156058</td>\n",
       "      <td>8544</td>\n",
       "      <td>avuncular chortles</td>\n",
       "      <td>3</td>\n",
       "    </tr>\n",
       "    <tr>\n",
       "      <th>156058</th>\n",
       "      <td>156059</td>\n",
       "      <td>8544</td>\n",
       "      <td>avuncular</td>\n",
       "      <td>2</td>\n",
       "    </tr>\n",
       "    <tr>\n",
       "      <th>156059</th>\n",
       "      <td>156060</td>\n",
       "      <td>8544</td>\n",
       "      <td>chortles</td>\n",
       "      <td>2</td>\n",
       "    </tr>\n",
       "  </tbody>\n",
       "</table>\n",
       "<p>156060 rows × 4 columns</p>\n",
       "</div>"
      ],
      "text/plain": [
       "        PhraseId  SentenceId  \\\n",
       "0              1           1   \n",
       "1              2           1   \n",
       "2              3           1   \n",
       "3              4           1   \n",
       "4              5           1   \n",
       "...          ...         ...   \n",
       "156055    156056        8544   \n",
       "156056    156057        8544   \n",
       "156057    156058        8544   \n",
       "156058    156059        8544   \n",
       "156059    156060        8544   \n",
       "\n",
       "                                                   Phrase  Sentiment  \n",
       "0       A series of escapades demonstrating the adage ...          1  \n",
       "1       A series of escapades demonstrating the adage ...          2  \n",
       "2                                                A series          2  \n",
       "3                                                       A          2  \n",
       "4                                                  series          2  \n",
       "...                                                   ...        ...  \n",
       "156055                                          Hearst 's          2  \n",
       "156056                          forced avuncular chortles          1  \n",
       "156057                                 avuncular chortles          3  \n",
       "156058                                          avuncular          2  \n",
       "156059                                           chortles          2  \n",
       "\n",
       "[156060 rows x 4 columns]"
      ]
     },
     "execution_count": 6,
     "metadata": {},
     "output_type": "execute_result"
    }
   ],
   "source": [
    "pd.read_csv('/kaggle/working/train.tsv',sep='\\t')"
   ]
  },
  {
   "cell_type": "code",
   "execution_count": 7,
   "id": "2d87fdc0",
   "metadata": {
    "execution": {
     "iopub.execute_input": "2023-05-16T02:18:17.119183Z",
     "iopub.status.busy": "2023-05-16T02:18:17.118782Z",
     "iopub.status.idle": "2023-05-16T02:18:17.357550Z",
     "shell.execute_reply": "2023-05-16T02:18:17.356570Z"
    },
    "papermill": {
     "duration": 0.282764,
     "end_time": "2023-05-16T02:18:17.360250",
     "exception": false,
     "start_time": "2023-05-16T02:18:17.077486",
     "status": "completed"
    },
    "tags": []
   },
   "outputs": [
    {
     "name": "stdout",
     "output_type": "stream",
     "text": [
      "train.shape: (120000, 4)\n",
      "test.shape: (20000, 4)\n"
     ]
    },
    {
     "data": {
      "text/html": [
       "<div>\n",
       "<style scoped>\n",
       "    .dataframe tbody tr th:only-of-type {\n",
       "        vertical-align: middle;\n",
       "    }\n",
       "\n",
       "    .dataframe tbody tr th {\n",
       "        vertical-align: top;\n",
       "    }\n",
       "\n",
       "    .dataframe thead th {\n",
       "        text-align: right;\n",
       "    }\n",
       "</style>\n",
       "<table border=\"1\" class=\"dataframe\">\n",
       "  <thead>\n",
       "    <tr style=\"text-align: right;\">\n",
       "      <th></th>\n",
       "      <th>PhraseId</th>\n",
       "      <th>SentenceId</th>\n",
       "      <th>Phrase</th>\n",
       "      <th>Sentiment</th>\n",
       "    </tr>\n",
       "  </thead>\n",
       "  <tbody>\n",
       "    <tr>\n",
       "      <th>0</th>\n",
       "      <td>1</td>\n",
       "      <td>1</td>\n",
       "      <td>A series of escapades demonstrating the adage ...</td>\n",
       "      <td>1</td>\n",
       "    </tr>\n",
       "    <tr>\n",
       "      <th>1</th>\n",
       "      <td>2</td>\n",
       "      <td>1</td>\n",
       "      <td>A series of escapades demonstrating the adage ...</td>\n",
       "      <td>2</td>\n",
       "    </tr>\n",
       "    <tr>\n",
       "      <th>2</th>\n",
       "      <td>3</td>\n",
       "      <td>1</td>\n",
       "      <td>A series</td>\n",
       "      <td>2</td>\n",
       "    </tr>\n",
       "    <tr>\n",
       "      <th>3</th>\n",
       "      <td>4</td>\n",
       "      <td>1</td>\n",
       "      <td>A</td>\n",
       "      <td>2</td>\n",
       "    </tr>\n",
       "    <tr>\n",
       "      <th>4</th>\n",
       "      <td>5</td>\n",
       "      <td>1</td>\n",
       "      <td>series</td>\n",
       "      <td>2</td>\n",
       "    </tr>\n",
       "  </tbody>\n",
       "</table>\n",
       "</div>"
      ],
      "text/plain": [
       "   PhraseId  SentenceId                                             Phrase  \\\n",
       "0         1           1  A series of escapades demonstrating the adage ...   \n",
       "1         2           1  A series of escapades demonstrating the adage ...   \n",
       "2         3           1                                           A series   \n",
       "3         4           1                                                  A   \n",
       "4         5           1                                             series   \n",
       "\n",
       "   Sentiment  \n",
       "0          1  \n",
       "1          2  \n",
       "2          2  \n",
       "3          2  \n",
       "4          2  "
      ]
     },
     "metadata": {},
     "output_type": "display_data"
    },
    {
     "data": {
      "text/html": [
       "<div>\n",
       "<style scoped>\n",
       "    .dataframe tbody tr th:only-of-type {\n",
       "        vertical-align: middle;\n",
       "    }\n",
       "\n",
       "    .dataframe tbody tr th {\n",
       "        vertical-align: top;\n",
       "    }\n",
       "\n",
       "    .dataframe thead th {\n",
       "        text-align: right;\n",
       "    }\n",
       "</style>\n",
       "<table border=\"1\" class=\"dataframe\">\n",
       "  <thead>\n",
       "    <tr style=\"text-align: right;\">\n",
       "      <th></th>\n",
       "      <th>PhraseId</th>\n",
       "      <th>SentenceId</th>\n",
       "      <th>Phrase</th>\n",
       "      <th>Sentiment</th>\n",
       "    </tr>\n",
       "  </thead>\n",
       "  <tbody>\n",
       "    <tr>\n",
       "      <th>136060</th>\n",
       "      <td>136061</td>\n",
       "      <td>7350</td>\n",
       "      <td>an engrossing thriller almost in spite of itself</td>\n",
       "      <td>3</td>\n",
       "    </tr>\n",
       "    <tr>\n",
       "      <th>136061</th>\n",
       "      <td>136062</td>\n",
       "      <td>7350</td>\n",
       "      <td>an engrossing thriller</td>\n",
       "      <td>4</td>\n",
       "    </tr>\n",
       "    <tr>\n",
       "      <th>136062</th>\n",
       "      <td>136063</td>\n",
       "      <td>7350</td>\n",
       "      <td>engrossing thriller</td>\n",
       "      <td>3</td>\n",
       "    </tr>\n",
       "    <tr>\n",
       "      <th>136063</th>\n",
       "      <td>136064</td>\n",
       "      <td>7350</td>\n",
       "      <td>almost in spite of itself</td>\n",
       "      <td>2</td>\n",
       "    </tr>\n",
       "    <tr>\n",
       "      <th>136064</th>\n",
       "      <td>136065</td>\n",
       "      <td>7350</td>\n",
       "      <td>in spite of itself</td>\n",
       "      <td>2</td>\n",
       "    </tr>\n",
       "  </tbody>\n",
       "</table>\n",
       "</div>"
      ],
      "text/plain": [
       "        PhraseId  SentenceId  \\\n",
       "136060    136061        7350   \n",
       "136061    136062        7350   \n",
       "136062    136063        7350   \n",
       "136063    136064        7350   \n",
       "136064    136065        7350   \n",
       "\n",
       "                                                  Phrase  Sentiment  \n",
       "136060  an engrossing thriller almost in spite of itself          3  \n",
       "136061                            an engrossing thriller          4  \n",
       "136062                               engrossing thriller          3  \n",
       "136063                         almost in spite of itself          2  \n",
       "136064                                in spite of itself          2  "
      ]
     },
     "metadata": {},
     "output_type": "display_data"
    }
   ],
   "source": [
    "train = pd.read_csv('/kaggle/working/train.tsv',sep='\\t')\n",
    "test = train.tail(20000).copy()\n",
    "train = train.head(120000).copy()\n",
    "\n",
    "print(f\"train.shape: {train.shape}\")\n",
    "print(f\"test.shape: {test.shape}\")\n",
    "display(train.head())\n",
    "display(test.head())"
   ]
  },
  {
   "cell_type": "code",
   "execution_count": 8,
   "id": "b1eae1cf",
   "metadata": {
    "execution": {
     "iopub.execute_input": "2023-05-16T02:18:17.440569Z",
     "iopub.status.busy": "2023-05-16T02:18:17.439971Z",
     "iopub.status.idle": "2023-05-16T02:18:17.446829Z",
     "shell.execute_reply": "2023-05-16T02:18:17.445990Z"
    },
    "papermill": {
     "duration": 0.050563,
     "end_time": "2023-05-16T02:18:17.449523",
     "exception": false,
     "start_time": "2023-05-16T02:18:17.398960",
     "status": "completed"
    },
    "tags": []
   },
   "outputs": [],
   "source": [
    "stemmer  = SnowballStemmer(language='english')\n",
    "def preprocessing(phrase):\n",
    "    lower = [phrase.lower() for phrase in phrase]\n",
    "    no_punct = [text.translate(str.maketrans('','',string.punctuation)) for text in lower]\n",
    "    stem = [stemmer.stem(i) for i in no_punct]\n",
    "    join = [\"\".join(text) for text in stem]\n",
    "    return join"
   ]
  },
  {
   "cell_type": "code",
   "execution_count": 9,
   "id": "3696c389",
   "metadata": {
    "execution": {
     "iopub.execute_input": "2023-05-16T02:18:17.530543Z",
     "iopub.status.busy": "2023-05-16T02:18:17.529622Z",
     "iopub.status.idle": "2023-05-16T02:18:17.535177Z",
     "shell.execute_reply": "2023-05-16T02:18:17.534073Z"
    },
    "papermill": {
     "duration": 0.04917,
     "end_time": "2023-05-16T02:18:17.537760",
     "exception": false,
     "start_time": "2023-05-16T02:18:17.488590",
     "status": "completed"
    },
    "tags": []
   },
   "outputs": [],
   "source": [
    "def pre_label(idx):\n",
    "    if idx == 0:\n",
    "        return 1\n",
    "    elif idx == 4:\n",
    "        return 3\n",
    "    else:\n",
    "        return idx"
   ]
  },
  {
   "cell_type": "code",
   "execution_count": 10,
   "id": "5d1c3e2e",
   "metadata": {
    "execution": {
     "iopub.execute_input": "2023-05-16T02:18:17.617441Z",
     "iopub.status.busy": "2023-05-16T02:18:17.617119Z",
     "iopub.status.idle": "2023-05-16T02:18:17.744949Z",
     "shell.execute_reply": "2023-05-16T02:18:17.743814Z"
    },
    "papermill": {
     "duration": 0.171002,
     "end_time": "2023-05-16T02:18:17.748073",
     "exception": false,
     "start_time": "2023-05-16T02:18:17.577071",
     "status": "completed"
    },
    "tags": []
   },
   "outputs": [
    {
     "data": {
      "text/html": [
       "<div>\n",
       "<style scoped>\n",
       "    .dataframe tbody tr th:only-of-type {\n",
       "        vertical-align: middle;\n",
       "    }\n",
       "\n",
       "    .dataframe tbody tr th {\n",
       "        vertical-align: top;\n",
       "    }\n",
       "\n",
       "    .dataframe thead th {\n",
       "        text-align: right;\n",
       "    }\n",
       "</style>\n",
       "<table border=\"1\" class=\"dataframe\">\n",
       "  <thead>\n",
       "    <tr style=\"text-align: right;\">\n",
       "      <th></th>\n",
       "      <th>PhraseId</th>\n",
       "      <th>SentenceId</th>\n",
       "      <th>Phrase</th>\n",
       "      <th>Sentiment</th>\n",
       "    </tr>\n",
       "  </thead>\n",
       "  <tbody>\n",
       "    <tr>\n",
       "      <th>0</th>\n",
       "      <td>1</td>\n",
       "      <td>1</td>\n",
       "      <td>A series of escapades demonstrating the adage ...</td>\n",
       "      <td>1</td>\n",
       "    </tr>\n",
       "    <tr>\n",
       "      <th>1</th>\n",
       "      <td>2</td>\n",
       "      <td>1</td>\n",
       "      <td>A series of escapades demonstrating the adage ...</td>\n",
       "      <td>2</td>\n",
       "    </tr>\n",
       "    <tr>\n",
       "      <th>2</th>\n",
       "      <td>3</td>\n",
       "      <td>1</td>\n",
       "      <td>A series</td>\n",
       "      <td>2</td>\n",
       "    </tr>\n",
       "    <tr>\n",
       "      <th>3</th>\n",
       "      <td>4</td>\n",
       "      <td>1</td>\n",
       "      <td>A</td>\n",
       "      <td>2</td>\n",
       "    </tr>\n",
       "    <tr>\n",
       "      <th>4</th>\n",
       "      <td>5</td>\n",
       "      <td>1</td>\n",
       "      <td>series</td>\n",
       "      <td>2</td>\n",
       "    </tr>\n",
       "  </tbody>\n",
       "</table>\n",
       "</div>"
      ],
      "text/plain": [
       "   PhraseId  SentenceId                                             Phrase  \\\n",
       "0         1           1  A series of escapades demonstrating the adage ...   \n",
       "1         2           1  A series of escapades demonstrating the adage ...   \n",
       "2         3           1                                           A series   \n",
       "3         4           1                                                  A   \n",
       "4         5           1                                             series   \n",
       "\n",
       "   Sentiment  \n",
       "0          1  \n",
       "1          2  \n",
       "2          2  \n",
       "3          2  \n",
       "4          2  "
      ]
     },
     "metadata": {},
     "output_type": "display_data"
    }
   ],
   "source": [
    "#mapper = {'HOF':1,'NOT':0}\n",
    "#train['text'] = train['Comment']\n",
    "#test['text'] = test['Comment']\n",
    "display(train.head())\n",
    "#display(test.head())\n",
    "train['label'] = train['Sentiment'].apply(pre_label)\n",
    "test['label'] = test['Sentiment'].apply(pre_label)\n",
    "#test['label'] = test['HS']\n",
    "#train['label'] = train['label'].map(mapper)\n",
    "#test['label'] = test['label'].map(mapper)"
   ]
  },
  {
   "cell_type": "code",
   "execution_count": 11,
   "id": "75eea816",
   "metadata": {
    "execution": {
     "iopub.execute_input": "2023-05-16T02:18:17.831197Z",
     "iopub.status.busy": "2023-05-16T02:18:17.830664Z",
     "iopub.status.idle": "2023-05-16T02:18:17.848174Z",
     "shell.execute_reply": "2023-05-16T02:18:17.846932Z"
    },
    "papermill": {
     "duration": 0.062302,
     "end_time": "2023-05-16T02:18:17.850797",
     "exception": false,
     "start_time": "2023-05-16T02:18:17.788495",
     "status": "completed"
    },
    "tags": []
   },
   "outputs": [
    {
     "data": {
      "text/html": [
       "<div>\n",
       "<style scoped>\n",
       "    .dataframe tbody tr th:only-of-type {\n",
       "        vertical-align: middle;\n",
       "    }\n",
       "\n",
       "    .dataframe tbody tr th {\n",
       "        vertical-align: top;\n",
       "    }\n",
       "\n",
       "    .dataframe thead th {\n",
       "        text-align: right;\n",
       "    }\n",
       "</style>\n",
       "<table border=\"1\" class=\"dataframe\">\n",
       "  <thead>\n",
       "    <tr style=\"text-align: right;\">\n",
       "      <th></th>\n",
       "      <th>PhraseId</th>\n",
       "      <th>SentenceId</th>\n",
       "      <th>Phrase</th>\n",
       "      <th>Sentiment</th>\n",
       "      <th>label</th>\n",
       "    </tr>\n",
       "  </thead>\n",
       "  <tbody>\n",
       "    <tr>\n",
       "      <th>0</th>\n",
       "      <td>1</td>\n",
       "      <td>1</td>\n",
       "      <td>A series of escapades demonstrating the adage ...</td>\n",
       "      <td>1</td>\n",
       "      <td>1</td>\n",
       "    </tr>\n",
       "    <tr>\n",
       "      <th>1</th>\n",
       "      <td>2</td>\n",
       "      <td>1</td>\n",
       "      <td>A series of escapades demonstrating the adage ...</td>\n",
       "      <td>2</td>\n",
       "      <td>2</td>\n",
       "    </tr>\n",
       "    <tr>\n",
       "      <th>2</th>\n",
       "      <td>3</td>\n",
       "      <td>1</td>\n",
       "      <td>A series</td>\n",
       "      <td>2</td>\n",
       "      <td>2</td>\n",
       "    </tr>\n",
       "    <tr>\n",
       "      <th>3</th>\n",
       "      <td>4</td>\n",
       "      <td>1</td>\n",
       "      <td>A</td>\n",
       "      <td>2</td>\n",
       "      <td>2</td>\n",
       "    </tr>\n",
       "    <tr>\n",
       "      <th>4</th>\n",
       "      <td>5</td>\n",
       "      <td>1</td>\n",
       "      <td>series</td>\n",
       "      <td>2</td>\n",
       "      <td>2</td>\n",
       "    </tr>\n",
       "    <tr>\n",
       "      <th>...</th>\n",
       "      <td>...</td>\n",
       "      <td>...</td>\n",
       "      <td>...</td>\n",
       "      <td>...</td>\n",
       "      <td>...</td>\n",
       "    </tr>\n",
       "    <tr>\n",
       "      <th>119995</th>\n",
       "      <td>119996</td>\n",
       "      <td>6419</td>\n",
       "      <td>For casual moviegoers who stumble into Rules e...</td>\n",
       "      <td>2</td>\n",
       "      <td>2</td>\n",
       "    </tr>\n",
       "    <tr>\n",
       "      <th>119996</th>\n",
       "      <td>119997</td>\n",
       "      <td>6419</td>\n",
       "      <td>casual moviegoers who stumble into Rules expec...</td>\n",
       "      <td>2</td>\n",
       "      <td>2</td>\n",
       "    </tr>\n",
       "    <tr>\n",
       "      <th>119997</th>\n",
       "      <td>119998</td>\n",
       "      <td>6419</td>\n",
       "      <td>casual moviegoers</td>\n",
       "      <td>2</td>\n",
       "      <td>2</td>\n",
       "    </tr>\n",
       "    <tr>\n",
       "      <th>119998</th>\n",
       "      <td>119999</td>\n",
       "      <td>6419</td>\n",
       "      <td>who stumble into Rules expecting a slice of Am...</td>\n",
       "      <td>1</td>\n",
       "      <td>1</td>\n",
       "    </tr>\n",
       "    <tr>\n",
       "      <th>119999</th>\n",
       "      <td>120000</td>\n",
       "      <td>6419</td>\n",
       "      <td>stumble into Rules expecting a slice of Americ...</td>\n",
       "      <td>2</td>\n",
       "      <td>2</td>\n",
       "    </tr>\n",
       "  </tbody>\n",
       "</table>\n",
       "<p>120000 rows × 5 columns</p>\n",
       "</div>"
      ],
      "text/plain": [
       "        PhraseId  SentenceId  \\\n",
       "0              1           1   \n",
       "1              2           1   \n",
       "2              3           1   \n",
       "3              4           1   \n",
       "4              5           1   \n",
       "...          ...         ...   \n",
       "119995    119996        6419   \n",
       "119996    119997        6419   \n",
       "119997    119998        6419   \n",
       "119998    119999        6419   \n",
       "119999    120000        6419   \n",
       "\n",
       "                                                   Phrase  Sentiment  label  \n",
       "0       A series of escapades demonstrating the adage ...          1      1  \n",
       "1       A series of escapades demonstrating the adage ...          2      2  \n",
       "2                                                A series          2      2  \n",
       "3                                                       A          2      2  \n",
       "4                                                  series          2      2  \n",
       "...                                                   ...        ...    ...  \n",
       "119995  For casual moviegoers who stumble into Rules e...          2      2  \n",
       "119996  casual moviegoers who stumble into Rules expec...          2      2  \n",
       "119997                                  casual moviegoers          2      2  \n",
       "119998  who stumble into Rules expecting a slice of Am...          1      1  \n",
       "119999  stumble into Rules expecting a slice of Americ...          2      2  \n",
       "\n",
       "[120000 rows x 5 columns]"
      ]
     },
     "execution_count": 11,
     "metadata": {},
     "output_type": "execute_result"
    }
   ],
   "source": [
    "train"
   ]
  },
  {
   "cell_type": "code",
   "execution_count": 12,
   "id": "7010fd0b",
   "metadata": {
    "execution": {
     "iopub.execute_input": "2023-05-16T02:18:17.935401Z",
     "iopub.status.busy": "2023-05-16T02:18:17.935063Z",
     "iopub.status.idle": "2023-05-16T02:18:17.953983Z",
     "shell.execute_reply": "2023-05-16T02:18:17.952706Z"
    },
    "papermill": {
     "duration": 0.064522,
     "end_time": "2023-05-16T02:18:17.956875",
     "exception": false,
     "start_time": "2023-05-16T02:18:17.892353",
     "status": "completed"
    },
    "tags": []
   },
   "outputs": [
    {
     "data": {
      "text/html": [
       "<div>\n",
       "<style scoped>\n",
       "    .dataframe tbody tr th:only-of-type {\n",
       "        vertical-align: middle;\n",
       "    }\n",
       "\n",
       "    .dataframe tbody tr th {\n",
       "        vertical-align: top;\n",
       "    }\n",
       "\n",
       "    .dataframe thead th {\n",
       "        text-align: right;\n",
       "    }\n",
       "</style>\n",
       "<table border=\"1\" class=\"dataframe\">\n",
       "  <thead>\n",
       "    <tr style=\"text-align: right;\">\n",
       "      <th></th>\n",
       "      <th>PhraseId</th>\n",
       "      <th>SentenceId</th>\n",
       "      <th>Phrase</th>\n",
       "      <th>Sentiment</th>\n",
       "      <th>label</th>\n",
       "    </tr>\n",
       "  </thead>\n",
       "  <tbody>\n",
       "    <tr>\n",
       "      <th>136060</th>\n",
       "      <td>136061</td>\n",
       "      <td>7350</td>\n",
       "      <td>an engrossing thriller almost in spite of itself</td>\n",
       "      <td>3</td>\n",
       "      <td>3</td>\n",
       "    </tr>\n",
       "    <tr>\n",
       "      <th>136061</th>\n",
       "      <td>136062</td>\n",
       "      <td>7350</td>\n",
       "      <td>an engrossing thriller</td>\n",
       "      <td>4</td>\n",
       "      <td>3</td>\n",
       "    </tr>\n",
       "    <tr>\n",
       "      <th>136062</th>\n",
       "      <td>136063</td>\n",
       "      <td>7350</td>\n",
       "      <td>engrossing thriller</td>\n",
       "      <td>3</td>\n",
       "      <td>3</td>\n",
       "    </tr>\n",
       "    <tr>\n",
       "      <th>136063</th>\n",
       "      <td>136064</td>\n",
       "      <td>7350</td>\n",
       "      <td>almost in spite of itself</td>\n",
       "      <td>2</td>\n",
       "      <td>2</td>\n",
       "    </tr>\n",
       "    <tr>\n",
       "      <th>136064</th>\n",
       "      <td>136065</td>\n",
       "      <td>7350</td>\n",
       "      <td>in spite of itself</td>\n",
       "      <td>2</td>\n",
       "      <td>2</td>\n",
       "    </tr>\n",
       "    <tr>\n",
       "      <th>...</th>\n",
       "      <td>...</td>\n",
       "      <td>...</td>\n",
       "      <td>...</td>\n",
       "      <td>...</td>\n",
       "      <td>...</td>\n",
       "    </tr>\n",
       "    <tr>\n",
       "      <th>156055</th>\n",
       "      <td>156056</td>\n",
       "      <td>8544</td>\n",
       "      <td>Hearst 's</td>\n",
       "      <td>2</td>\n",
       "      <td>2</td>\n",
       "    </tr>\n",
       "    <tr>\n",
       "      <th>156056</th>\n",
       "      <td>156057</td>\n",
       "      <td>8544</td>\n",
       "      <td>forced avuncular chortles</td>\n",
       "      <td>1</td>\n",
       "      <td>1</td>\n",
       "    </tr>\n",
       "    <tr>\n",
       "      <th>156057</th>\n",
       "      <td>156058</td>\n",
       "      <td>8544</td>\n",
       "      <td>avuncular chortles</td>\n",
       "      <td>3</td>\n",
       "      <td>3</td>\n",
       "    </tr>\n",
       "    <tr>\n",
       "      <th>156058</th>\n",
       "      <td>156059</td>\n",
       "      <td>8544</td>\n",
       "      <td>avuncular</td>\n",
       "      <td>2</td>\n",
       "      <td>2</td>\n",
       "    </tr>\n",
       "    <tr>\n",
       "      <th>156059</th>\n",
       "      <td>156060</td>\n",
       "      <td>8544</td>\n",
       "      <td>chortles</td>\n",
       "      <td>2</td>\n",
       "      <td>2</td>\n",
       "    </tr>\n",
       "  </tbody>\n",
       "</table>\n",
       "<p>20000 rows × 5 columns</p>\n",
       "</div>"
      ],
      "text/plain": [
       "        PhraseId  SentenceId  \\\n",
       "136060    136061        7350   \n",
       "136061    136062        7350   \n",
       "136062    136063        7350   \n",
       "136063    136064        7350   \n",
       "136064    136065        7350   \n",
       "...          ...         ...   \n",
       "156055    156056        8544   \n",
       "156056    156057        8544   \n",
       "156057    156058        8544   \n",
       "156058    156059        8544   \n",
       "156059    156060        8544   \n",
       "\n",
       "                                                  Phrase  Sentiment  label  \n",
       "136060  an engrossing thriller almost in spite of itself          3      3  \n",
       "136061                            an engrossing thriller          4      3  \n",
       "136062                               engrossing thriller          3      3  \n",
       "136063                         almost in spite of itself          2      2  \n",
       "136064                                in spite of itself          2      2  \n",
       "...                                                  ...        ...    ...  \n",
       "156055                                         Hearst 's          2      2  \n",
       "156056                         forced avuncular chortles          1      1  \n",
       "156057                                avuncular chortles          3      3  \n",
       "156058                                         avuncular          2      2  \n",
       "156059                                          chortles          2      2  \n",
       "\n",
       "[20000 rows x 5 columns]"
      ]
     },
     "execution_count": 12,
     "metadata": {},
     "output_type": "execute_result"
    }
   ],
   "source": [
    "test"
   ]
  },
  {
   "cell_type": "code",
   "execution_count": 13,
   "id": "d10fd209",
   "metadata": {
    "execution": {
     "iopub.execute_input": "2023-05-16T02:18:18.041692Z",
     "iopub.status.busy": "2023-05-16T02:18:18.041362Z",
     "iopub.status.idle": "2023-05-16T02:18:18.345585Z",
     "shell.execute_reply": "2023-05-16T02:18:18.344961Z"
    },
    "papermill": {
     "duration": 0.350257,
     "end_time": "2023-05-16T02:18:18.348806",
     "exception": false,
     "start_time": "2023-05-16T02:18:17.998549",
     "status": "completed"
    },
    "tags": []
   },
   "outputs": [
    {
     "data": {
      "text/plain": [
       "<AxesSubplot:>"
      ]
     },
     "execution_count": 13,
     "metadata": {},
     "output_type": "execute_result"
    },
    {
     "data": {
      "image/png": "[encoded data removed]",
      "text/plain": [
       "<Figure size 432x288 with 1 Axes>"
      ]
     },
     "metadata": {
      "needs_background": "light"
     },
     "output_type": "display_data"
    }
   ],
   "source": [
    "train['label'].hist()"
   ]
  },
  {
   "cell_type": "code",
   "execution_count": 14,
   "id": "4cb9ef19",
   "metadata": {
    "execution": {
     "iopub.execute_input": "2023-05-16T02:18:18.435456Z",
     "iopub.status.busy": "2023-05-16T02:18:18.434267Z",
     "iopub.status.idle": "2023-05-16T02:18:23.533974Z",
     "shell.execute_reply": "2023-05-16T02:18:23.532734Z"
    },
    "papermill": {
     "duration": 5.146766,
     "end_time": "2023-05-16T02:18:23.538117",
     "exception": false,
     "start_time": "2023-05-16T02:18:18.391351",
     "status": "completed"
    },
    "tags": []
   },
   "outputs": [],
   "source": [
    "train['Phrase'] = preprocessing(train['Phrase'])\n",
    "test['Phrase'] = preprocessing(test['Phrase'])"
   ]
  },
  {
   "cell_type": "code",
   "execution_count": 15,
   "id": "1455d502",
   "metadata": {
    "execution": {
     "iopub.execute_input": "2023-05-16T02:18:23.646043Z",
     "iopub.status.busy": "2023-05-16T02:18:23.645135Z",
     "iopub.status.idle": "2023-05-16T02:18:23.652549Z",
     "shell.execute_reply": "2023-05-16T02:18:23.651902Z"
    },
    "papermill": {
     "duration": 0.057473,
     "end_time": "2023-05-16T02:18:23.655221",
     "exception": false,
     "start_time": "2023-05-16T02:18:23.597748",
     "status": "completed"
    },
    "tags": []
   },
   "outputs": [],
   "source": [
    "xtrain = train['Phrase'].copy()\n",
    "ytrain = train['label'].copy()"
   ]
  },
  {
   "cell_type": "code",
   "execution_count": 16,
   "id": "b3b9cf81",
   "metadata": {
    "execution": {
     "iopub.execute_input": "2023-05-16T02:18:23.746041Z",
     "iopub.status.busy": "2023-05-16T02:18:23.745494Z",
     "iopub.status.idle": "2023-05-16T02:18:23.754283Z",
     "shell.execute_reply": "2023-05-16T02:18:23.753403Z"
    },
    "papermill": {
     "duration": 0.056897,
     "end_time": "2023-05-16T02:18:23.756907",
     "exception": false,
     "start_time": "2023-05-16T02:18:23.700010",
     "status": "completed"
    },
    "tags": []
   },
   "outputs": [
    {
     "data": {
      "text/plain": [
       "0         a series of escapades demonstrating the adage ...\n",
       "1         a series of escapades demonstrating the adage ...\n",
       "2                                                    a seri\n",
       "3                                                         a\n",
       "4                                                      seri\n",
       "                                ...                        \n",
       "119995    for casual moviegoers who stumble into rules e...\n",
       "119996    casual moviegoers who stumble into rules expec...\n",
       "119997                                       casual moviego\n",
       "119998    who stumble into rules expecting a slice of am...\n",
       "119999    stumble into rules expecting a slice of americ...\n",
       "Name: Phrase, Length: 120000, dtype: object"
      ]
     },
     "execution_count": 16,
     "metadata": {},
     "output_type": "execute_result"
    }
   ],
   "source": [
    "xtrain"
   ]
  },
  {
   "cell_type": "code",
   "execution_count": 17,
   "id": "5731c5d1",
   "metadata": {
    "execution": {
     "iopub.execute_input": "2023-05-16T02:18:23.846151Z",
     "iopub.status.busy": "2023-05-16T02:18:23.845819Z",
     "iopub.status.idle": "2023-05-16T02:18:23.860550Z",
     "shell.execute_reply": "2023-05-16T02:18:23.859467Z"
    },
    "papermill": {
     "duration": 0.062546,
     "end_time": "2023-05-16T02:18:23.863590",
     "exception": false,
     "start_time": "2023-05-16T02:18:23.801044",
     "status": "completed"
    },
    "tags": []
   },
   "outputs": [],
   "source": [
    "def train_func():\n",
    "    if CFG.method == 'TFid':\n",
    "        vectorizer = TfidfVectorizer( stop_words = 'english')\n",
    "\n",
    "    elif CFG.method == 'CountVectorizer':\n",
    "        vectorizer = CountVectorizer(analyzer='word',token_pattern=r'\\w{1,}',\n",
    "                ngram_range=(1, 3), stop_words = 'english')\n",
    "\n",
    "\n",
    "    vectorizer.fit(train['Phrase'])\n",
    "    xtrain_transform =  vectorizer.transform(xtrain) \n",
    "    xtest = test['Phrase']\n",
    "    xtest_transform = vectorizer.transform(xtest)\n",
    "    \n",
    "    #print('tfidf transforming complete')\n",
    "\n",
    "    if CFG.model == 'LogisticRegression':\n",
    "        clf = LogisticRegression(C=1.0)\n",
    "\n",
    "    elif CFG.model == 'SVM':\n",
    "        clf = LinearSVC(C=1.0)#,probability=True)\n",
    "\n",
    "    elif CFG.model == 'naive_bayes':\n",
    "        clf = MultinomialNB()\n",
    "\n",
    "    elif CFG.model == 'xgboost':\n",
    "        clf = xgb.XGBClassifier(learning_rate=0.1,colsample_bytree=0.2,gamma=1.015995756910978,max_depth=15,min_child_weight=15,reg_alpha=2,reg_lambda=0.001)\n",
    "    \n",
    "    elif CFG.model =='RandomForest':\n",
    "        clf = RandomForestClassifier()\n",
    "\n",
    "    print('='*10)    \n",
    "    print(f'using method {CFG.method}')\n",
    "    print('='*10)\n",
    "    if CFG.model != 'xgboost':\n",
    "        clf.fit(xtrain_transform, ytrain)\n",
    "    else:\n",
    "        clf.fit(xtrain_transform,ytrain,early_stopping_rounds=200,eval_set=[(xvalid_transform,yvalid)], verbose=False)\n",
    "    #predictions = clf.predict_proba(xvalid_transform)\n",
    "    #predictions = np.argmax(predictions,axis=1).reshape(-1,1)\n",
    "    #print(f'valid accuracy score using {CFG.model} is: ',accuracy_score(yvalid,predictions))\n",
    "    #print(f'valid auc score using {CFG.model} is: ',roc_auc_score(yvalid,predictions))\n",
    "    #test_predictions = clf.predict_proba(xtest_transform)\n",
    "    test_predictions = clf.predict(xtest_transform)\n",
    "    #test_predictions = np.argmax(test_predictions,axis=1).reshape(-1,1)\n",
    "    print(f'test accuracy score using {CFG.model} is: ',accuracy_score(test['label'],test_predictions))\n",
    "    #print(f'test auc score using {CFG.model} is: ',roc_auc_score(test['label'],test_predictions))\n",
    "    print('='*10)\n",
    "    return vectorizer, test_predictions, clf"
   ]
  },
  {
   "cell_type": "code",
   "execution_count": 18,
   "id": "daddddef",
   "metadata": {
    "execution": {
     "iopub.execute_input": "2023-05-16T02:18:23.952644Z",
     "iopub.status.busy": "2023-05-16T02:18:23.952022Z",
     "iopub.status.idle": "2023-05-16T02:18:30.806154Z",
     "shell.execute_reply": "2023-05-16T02:18:30.805495Z"
    },
    "papermill": {
     "duration": 6.901591,
     "end_time": "2023-05-16T02:18:30.808399",
     "exception": false,
     "start_time": "2023-05-16T02:18:23.906808",
     "status": "completed"
    },
    "tags": []
   },
   "outputs": [
    {
     "name": "stdout",
     "output_type": "stream",
     "text": [
      "==========\n",
      "using method TFid\n",
      "==========\n",
      "test accuracy score using SVM is:  0.65545\n",
      "==========\n"
     ]
    }
   ],
   "source": [
    "vectorizer, test_predictions, clf = train_func()"
   ]
  },
  {
   "cell_type": "code",
   "execution_count": 19,
   "id": "95239851",
   "metadata": {
    "execution": {
     "iopub.execute_input": "2023-05-16T02:18:30.897993Z",
     "iopub.status.busy": "2023-05-16T02:18:30.897658Z",
     "iopub.status.idle": "2023-05-16T02:18:30.904174Z",
     "shell.execute_reply": "2023-05-16T02:18:30.903132Z"
    },
    "papermill": {
     "duration": 0.053777,
     "end_time": "2023-05-16T02:18:30.906443",
     "exception": false,
     "start_time": "2023-05-16T02:18:30.852666",
     "status": "completed"
    },
    "tags": []
   },
   "outputs": [
    {
     "data": {
      "text/plain": [
       "'an engrossing thriller almost in spite of itself'"
      ]
     },
     "execution_count": 19,
     "metadata": {},
     "output_type": "execute_result"
    }
   ],
   "source": [
    "test['Phrase'].iloc[0]"
   ]
  },
  {
   "cell_type": "code",
   "execution_count": 20,
   "id": "1587073d",
   "metadata": {
    "execution": {
     "iopub.execute_input": "2023-05-16T02:18:30.996784Z",
     "iopub.status.busy": "2023-05-16T02:18:30.996472Z",
     "iopub.status.idle": "2023-05-16T02:18:31.002678Z",
     "shell.execute_reply": "2023-05-16T02:18:31.001567Z"
    },
    "papermill": {
     "duration": 0.054328,
     "end_time": "2023-05-16T02:18:31.005430",
     "exception": false,
     "start_time": "2023-05-16T02:18:30.951102",
     "status": "completed"
    },
    "tags": []
   },
   "outputs": [],
   "source": [
    "test_samples = ['worst youtube video ever']\n",
    "\n",
    "test_samples_vec = vectorizer.transform(test_samples)"
   ]
  },
  {
   "cell_type": "code",
   "execution_count": 21,
   "id": "02943c39",
   "metadata": {
    "execution": {
     "iopub.execute_input": "2023-05-16T02:18:31.094336Z",
     "iopub.status.busy": "2023-05-16T02:18:31.094034Z",
     "iopub.status.idle": "2023-05-16T02:18:31.098700Z",
     "shell.execute_reply": "2023-05-16T02:18:31.097713Z"
    },
    "papermill": {
     "duration": 0.051733,
     "end_time": "2023-05-16T02:18:31.100961",
     "exception": false,
     "start_time": "2023-05-16T02:18:31.049228",
     "status": "completed"
    },
    "tags": []
   },
   "outputs": [],
   "source": [
    "preds = clf.predict(test_samples_vec)"
   ]
  },
  {
   "cell_type": "code",
   "execution_count": 22,
   "id": "fab693be",
   "metadata": {
    "execution": {
     "iopub.execute_input": "2023-05-16T02:18:31.190313Z",
     "iopub.status.busy": "2023-05-16T02:18:31.189316Z",
     "iopub.status.idle": "2023-05-16T02:18:31.195832Z",
     "shell.execute_reply": "2023-05-16T02:18:31.194979Z"
    },
    "papermill": {
     "duration": 0.053922,
     "end_time": "2023-05-16T02:18:31.198382",
     "exception": false,
     "start_time": "2023-05-16T02:18:31.144460",
     "status": "completed"
    },
    "tags": []
   },
   "outputs": [
    {
     "data": {
      "text/plain": [
       "array([1])"
      ]
     },
     "execution_count": 22,
     "metadata": {},
     "output_type": "execute_result"
    }
   ],
   "source": [
    "preds"
   ]
  },
  {
   "cell_type": "markdown",
   "id": "25270c5d",
   "metadata": {
    "papermill": {
     "duration": 0.044152,
     "end_time": "2023-05-16T02:18:31.287608",
     "exception": false,
     "start_time": "2023-05-16T02:18:31.243456",
     "status": "completed"
    },
    "tags": []
   },
   "source": [
    "# Voting"
   ]
  },
  {
   "cell_type": "code",
   "execution_count": 23,
   "id": "6236d63a",
   "metadata": {
    "execution": {
     "iopub.execute_input": "2023-05-16T02:18:31.379638Z",
     "iopub.status.busy": "2023-05-16T02:18:31.379051Z",
     "iopub.status.idle": "2023-05-16T02:20:22.585049Z",
     "shell.execute_reply": "2023-05-16T02:20:22.583858Z"
    },
    "papermill": {
     "duration": 111.254507,
     "end_time": "2023-05-16T02:20:22.587708",
     "exception": false,
     "start_time": "2023-05-16T02:18:31.333201",
     "status": "completed"
    },
    "tags": []
   },
   "outputs": [
    {
     "name": "stdout",
     "output_type": "stream",
     "text": [
      "==========\n",
      "using method CountVectorizer\n",
      "==========\n"
     ]
    },
    {
     "name": "stderr",
     "output_type": "stream",
     "text": [
      "/opt/conda/lib/python3.7/site-packages/sklearn/linear_model/_logistic.py:818: ConvergenceWarning: lbfgs failed to converge (status=1):\n",
      "STOP: TOTAL NO. of ITERATIONS REACHED LIMIT.\n",
      "\n",
      "Increase the number of iterations (max_iter) or scale the data as shown in:\n",
      "    https://scikit-learn.org/stable/modules/preprocessing.html\n",
      "Please also refer to the documentation for alternative solver options:\n",
      "    https://scikit-learn.org/stable/modules/linear_model.html#logistic-regression\n",
      "  extra_warning_msg=_LOGISTIC_SOLVER_CONVERGENCE_MSG,\n"
     ]
    },
    {
     "name": "stdout",
     "output_type": "stream",
     "text": [
      "test accuracy score using LogisticRegression is:  0.65545\n",
      "==========\n",
      "==========\n",
      "using method CountVectorizer\n",
      "==========\n"
     ]
    },
    {
     "name": "stderr",
     "output_type": "stream",
     "text": [
      "/opt/conda/lib/python3.7/site-packages/sklearn/svm/_base.py:1208: ConvergenceWarning: Liblinear failed to converge, increase the number of iterations.\n",
      "  ConvergenceWarning,\n"
     ]
    },
    {
     "name": "stdout",
     "output_type": "stream",
     "text": [
      "test accuracy score using SVM is:  0.64775\n",
      "==========\n",
      "==========\n",
      "using method CountVectorizer\n",
      "==========\n",
      "test accuracy score using naive_bayes is:  0.6215\n",
      "==========\n"
     ]
    }
   ],
   "source": [
    "CFG.method = 'CountVectorizer'\n",
    "CFG.model = 'LogisticRegression'\n",
    "vectorizer, test_predictions_logistic, clf = train_func()\n",
    "\n",
    "CFG.model = 'SVM'\n",
    "vectorizer, test_predictions_svm, clf = train_func()\n",
    "\n",
    "CFG.model = 'naive_bayes'\n",
    "vectorizer, test_predictions_naive, clf = train_func()"
   ]
  },
  {
   "cell_type": "code",
   "execution_count": 24,
   "id": "cbb2326b",
   "metadata": {
    "execution": {
     "iopub.execute_input": "2023-05-16T02:20:22.684575Z",
     "iopub.status.busy": "2023-05-16T02:20:22.684277Z",
     "iopub.status.idle": "2023-05-16T02:20:23.389441Z",
     "shell.execute_reply": "2023-05-16T02:20:23.387730Z"
    },
    "papermill": {
     "duration": 0.756777,
     "end_time": "2023-05-16T02:20:23.392189",
     "exception": false,
     "start_time": "2023-05-16T02:20:22.635412",
     "status": "completed"
    },
    "tags": []
   },
   "outputs": [
    {
     "name": "stdout",
     "output_type": "stream",
     "text": [
      "test accuracy score using ensemble is:  0.6554\n"
     ]
    }
   ],
   "source": [
    "prediction_test = np.hstack((test_predictions_logistic.reshape(-1,1),test_predictions_svm.reshape(-1,1),test_predictions_naive.reshape(-1,1)))\n",
    "ensemble_test = stats.mode(prediction_test,axis=1)[0]\n",
    "print(f'test accuracy score using ensemble is: ',accuracy_score(test['label'],ensemble_test))"
   ]
  },
  {
   "cell_type": "code",
   "execution_count": null,
   "id": "c9e64ab7",
   "metadata": {
    "papermill": {
     "duration": 0.049651,
     "end_time": "2023-05-16T02:20:23.492844",
     "exception": false,
     "start_time": "2023-05-16T02:20:23.443193",
     "status": "completed"
    },
    "tags": []
   },
   "outputs": [],
   "source": []
  }
 ],
 "metadata": {
  "kernelspec": {
   "display_name": "Python 3",
   "language": "python",
   "name": "python3"
  },
  "language_info": {
   "codemirror_mode": {
    "name": "ipython",
    "version": 3
   },
   "file_extension": ".py",
   "mimetype": "text/x-python",
   "name": "python",
   "nbconvert_exporter": "python",
   "pygments_lexer": "ipython3",
   "version": "3.7.12"
  },
  "papermill": {
   "default_parameters": {},
   "duration": 153.924813,
   "end_time": "2023-05-16T02:20:26.874274",
   "environment_variables": {},
   "exception": null,
   "input_path": "__notebook__.ipynb",
   "output_path": "__notebook__.ipynb",
   "parameters": {},
   "start_time": "2023-05-16T02:17:52.949461",
   "version": "2.3.4"
  }
 },
 "nbformat": 4,
 "nbformat_minor": 5
}
