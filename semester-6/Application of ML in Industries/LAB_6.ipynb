{
  "cells": [
    {
      "cell_type": "markdown",
      "metadata": {
        "id": "VBE6TaJKPVv_"
      },
      "source": [
        "# MACHINE LEARNING LAB - 6 ( naïve Bayesian Classifier (using API) )"
      ]
    },
    {
      "cell_type": "markdown",
      "metadata": {
        "id": "5vK_RzhvPVwC"
      },
      "source": [
        "**6. Assuming a set of documents that need to be classified, use the naïve Bayesian\n",
        "Classifier model to perform this task. Built-in Java classes/API can be used to write\n",
        "the program. Calculate the accuracy, precision, and recall for your data set.**"
      ]
    },
    {
      "cell_type": "code",
      "execution_count": null,
      "metadata": {
        "id": "wNewcsafPVwD",
        "outputId": "d2252b86-5142-4b10-c9d7-bf8a4b623f62"
      },
      "outputs": [
        {
          "name": "stdout",
          "output_type": "stream",
          "text": [
            "Total Instances of Dataset:  18\n"
          ]
        }
      ],
      "source": [
        "import pandas as pd\n",
        "msg = pd.read_csv('document.csv', names=['message', 'label'])\n",
        "print(\"Total Instances of Dataset: \", msg.shape[0])\n",
        "msg['labelnum'] = msg.label.map({'pos': 1, 'neg': 0})"
      ]
    },
    {
      "cell_type": "code",
      "execution_count": null,
      "metadata": {
        "id": "PnHsBi4MPVwE"
      },
      "outputs": [],
      "source": [
        "X = msg.message\n",
        "y = msg.labelnum\n",
        "from sklearn.model_selection import train_test_split\n",
        "Xtrain, Xtest, ytrain, ytest = train_test_split(X, y)\n",
        "from sklearn.feature_extraction.text import CountVectorizer\n",
        "\n",
        "count_v = CountVectorizer()\n",
        "Xtrain_dm = count_v.fit_transform(Xtrain)\n",
        "Xtest_dm = count_v.transform(Xtest)"
      ]
    },
    {
      "cell_type": "code",
      "execution_count": null,
      "metadata": {
        "id": "jLqay8TXPVwF",
        "outputId": "9d77cf7d-1372-47b8-ac90-32d081fe83f5"
      },
      "outputs": [
        {
          "name": "stdout",
          "output_type": "stream",
          "text": [
            "   about  am  an  and  awesome  bad  beers  best  boss  can  ...   tired  to  \\\n",
            "0      0   1   0    1        0    0      0     0     0    0  ...       1   0   \n",
            "1      0   0   0    0        0    0      0     0     0    0  ...       0   0   \n",
            "2      0   0   0    0        0    0      0     0     0    0  ...       0   0   \n",
            "3      0   0   0    0        0    0      0     0     0    1  ...       0   0   \n",
            "4      0   0   0    0        0    0      0     0     0    0  ...       0   0   \n",
            "\n",
            "   today  tomorrow  very  we  went  will  with  work  \n",
            "0      0         0     0   0     0     0     0     0  \n",
            "1      0         0     0   0     0     0     0     0  \n",
            "2      0         0     0   0     0     0     0     0  \n",
            "3      0         0     0   0     0     0     1     0  \n",
            "4      0         0     0   0     0     0     0     0  \n",
            "\n",
            "[5 rows x 49 columns]\n"
          ]
        }
      ],
      "source": [
        "df = pd.DataFrame(Xtrain_dm.toarray(),columns=count_v.get_feature_names())\n",
        "print(df[0:5])"
      ]
    },
    {
      "cell_type": "code",
      "execution_count": null,
      "metadata": {
        "id": "cUAkIakfPVwF"
      },
      "outputs": [],
      "source": [
        "from sklearn.naive_bayes import MultinomialNB\n",
        "clf = MultinomialNB()\n",
        "clf.fit(Xtrain_dm, ytrain)\n",
        "pred = clf.predict(Xtest_dm)"
      ]
    },
    {
      "cell_type": "code",
      "execution_count": null,
      "metadata": {
        "id": "0ZA2bXf3PVwF",
        "outputId": "c0d02be3-ab4d-4254-9f1c-2e239775c0c9"
      },
      "outputs": [
        {
          "name": "stdout",
          "output_type": "stream",
          "text": [
            "I am sick and tired of this place -> pos\n",
            "I do not like the taste of this juice -> neg\n",
            "I love this sandwich -> neg\n",
            "I can't deal with this -> pos\n",
            "I do not like this restaurant -> neg\n"
          ]
        }
      ],
      "source": [
        "for doc, p in zip(Xtrain, pred):\n",
        "    p = 'pos' if p == 1 else 'neg'\n",
        "    print(\"%s -> %s\" % (doc, p))"
      ]
    },
    {
      "cell_type": "code",
      "execution_count": null,
      "metadata": {
        "id": "3pDNIJiNPVwG",
        "outputId": "1bfd4c5f-4f84-4b3e-a0ae-fd6d42b8d4c5"
      },
      "outputs": [
        {
          "name": "stdout",
          "output_type": "stream",
          "text": [
            "Accuracy Metrics: \n",
            "\n",
            "Accuracy:  0.6\n",
            "Recall:  0.5\n",
            "Precision:  1.0\n",
            "Confusion Matrix: \n",
            " [[1 0]\n",
            " [2 2]]\n"
          ]
        }
      ],
      "source": [
        "from sklearn.metrics import accuracy_score, confusion_matrix, precision_score, recall_score\n",
        "print('Accuracy Metrics: \\n')\n",
        "print('Accuracy: ', accuracy_score(ytest, pred))\n",
        "print('Recall: ', recall_score(ytest, pred))\n",
        "print('Precision: ', precision_score(ytest, pred))\n",
        "print('Confusion Matrix: \\n', confusion_matrix(ytest, pred))"
      ]
    }
  ],
  "metadata": {
    "kernelspec": {
      "display_name": "Python 3",
      "language": "python",
      "name": "python3"
    },
    "language_info": {
      "codemirror_mode": {
        "name": "ipython",
        "version": 3
      },
      "file_extension": ".py",
      "mimetype": "text/x-python",
      "name": "python",
      "nbconvert_exporter": "python",
      "pygments_lexer": "ipython3",
      "version": "3.7.1"
    },
    "colab": {
      "provenance": []
    }
  },
  "nbformat": 4,
  "nbformat_minor": 0
}