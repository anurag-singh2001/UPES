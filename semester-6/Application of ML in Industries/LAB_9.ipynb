{
  "cells": [
    {
      "cell_type": "markdown",
      "metadata": {
        "id": "cSKmCe-zPedM"
      },
      "source": [
        "# MACHINE LEARNING LAB - 9 (  k-Nearest Neighbour Algorithm )"
      ]
    },
    {
      "cell_type": "markdown",
      "metadata": {
        "id": "joNoyrhaPedR"
      },
      "source": [
        "**9. Write a program to implement k-Nearest Neighbour algorithm to classify the iris\n",
        "data set. Print both correct and wrong predictions. Java/Python ML library classes can\n",
        "be used for this problem.**"
      ]
    },
    {
      "cell_type": "code",
      "execution_count": null,
      "metadata": {
        "id": "O039YEpGPedS"
      },
      "outputs": [],
      "source": [
        "from sklearn.datasets import load_iris\n",
        "from sklearn.neighbors import KNeighborsClassifier\n",
        "from sklearn.model_selection import train_test_split\n",
        "import numpy as np"
      ]
    },
    {
      "cell_type": "code",
      "execution_count": null,
      "metadata": {
        "id": "64W6n4-8PedU"
      },
      "outputs": [],
      "source": [
        "dataset=load_iris()\n",
        "#print(dataset)\n",
        "X_train,X_test,y_train,y_test=train_test_split(dataset[\"data\"],dataset[\"target\"],random_state=0)"
      ]
    },
    {
      "cell_type": "code",
      "execution_count": null,
      "metadata": {
        "id": "_Zlv-3L2PedV",
        "outputId": "231a24e1-e1d5-4f53-eee4-94c26fafe851"
      },
      "outputs": [
        {
          "data": {
            "text/plain": [
              "KNeighborsClassifier(algorithm='auto', leaf_size=30, metric='minkowski',\n",
              "           metric_params=None, n_jobs=None, n_neighbors=1, p=2,\n",
              "           weights='uniform')"
            ]
          },
          "execution_count": 3,
          "metadata": {},
          "output_type": "execute_result"
        }
      ],
      "source": [
        "kn=KNeighborsClassifier(n_neighbors=1)\n",
        "kn.fit(X_train,y_train)"
      ]
    },
    {
      "cell_type": "code",
      "execution_count": null,
      "metadata": {
        "id": "l88_XxN3PedX",
        "outputId": "2a837e8f-6e26-49dd-90f5-2eb71f678ab7"
      },
      "outputs": [
        {
          "name": "stdout",
          "output_type": "stream",
          "text": [
            "TARGET= 2 virginica PREDICTED= [2] ['virginica']\n",
            "TARGET= 1 versicolor PREDICTED= [1] ['versicolor']\n",
            "TARGET= 0 setosa PREDICTED= [0] ['setosa']\n",
            "TARGET= 2 virginica PREDICTED= [2] ['virginica']\n",
            "TARGET= 0 setosa PREDICTED= [0] ['setosa']\n",
            "TARGET= 2 virginica PREDICTED= [2] ['virginica']\n",
            "TARGET= 0 setosa PREDICTED= [0] ['setosa']\n",
            "TARGET= 1 versicolor PREDICTED= [1] ['versicolor']\n",
            "TARGET= 1 versicolor PREDICTED= [1] ['versicolor']\n",
            "TARGET= 1 versicolor PREDICTED= [1] ['versicolor']\n",
            "TARGET= 2 virginica PREDICTED= [2] ['virginica']\n",
            "TARGET= 1 versicolor PREDICTED= [1] ['versicolor']\n",
            "TARGET= 1 versicolor PREDICTED= [1] ['versicolor']\n",
            "TARGET= 1 versicolor PREDICTED= [1] ['versicolor']\n",
            "TARGET= 1 versicolor PREDICTED= [1] ['versicolor']\n",
            "TARGET= 0 setosa PREDICTED= [0] ['setosa']\n",
            "TARGET= 1 versicolor PREDICTED= [1] ['versicolor']\n",
            "TARGET= 1 versicolor PREDICTED= [1] ['versicolor']\n",
            "TARGET= 0 setosa PREDICTED= [0] ['setosa']\n",
            "TARGET= 0 setosa PREDICTED= [0] ['setosa']\n",
            "TARGET= 2 virginica PREDICTED= [2] ['virginica']\n",
            "TARGET= 1 versicolor PREDICTED= [1] ['versicolor']\n",
            "TARGET= 0 setosa PREDICTED= [0] ['setosa']\n",
            "TARGET= 0 setosa PREDICTED= [0] ['setosa']\n",
            "TARGET= 2 virginica PREDICTED= [2] ['virginica']\n",
            "TARGET= 0 setosa PREDICTED= [0] ['setosa']\n",
            "TARGET= 0 setosa PREDICTED= [0] ['setosa']\n",
            "TARGET= 1 versicolor PREDICTED= [1] ['versicolor']\n",
            "TARGET= 1 versicolor PREDICTED= [1] ['versicolor']\n",
            "TARGET= 0 setosa PREDICTED= [0] ['setosa']\n",
            "TARGET= 2 virginica PREDICTED= [2] ['virginica']\n",
            "TARGET= 1 versicolor PREDICTED= [1] ['versicolor']\n",
            "TARGET= 0 setosa PREDICTED= [0] ['setosa']\n",
            "TARGET= 2 virginica PREDICTED= [2] ['virginica']\n",
            "TARGET= 2 virginica PREDICTED= [2] ['virginica']\n",
            "TARGET= 1 versicolor PREDICTED= [1] ['versicolor']\n",
            "TARGET= 0 setosa PREDICTED= [0] ['setosa']\n",
            "TARGET= 1 versicolor PREDICTED= [2] ['virginica']\n",
            "0.9736842105263158\n"
          ]
        }
      ],
      "source": [
        "for i in range(len(X_test)):\n",
        "    x=X_test[i]\n",
        "    x_new=np.array([x])\n",
        "    prediction=kn.predict(x_new)\n",
        "    print(\"TARGET=\",y_test[i],dataset[\"target_names\"][y_test[i]],\"PREDICTED=\",prediction,dataset[\"target_names\"][prediction])\n",
        "print(kn.score(X_test,y_test))"
      ]
    }
  ],
  "metadata": {
    "kernelspec": {
      "display_name": "Python 3",
      "language": "python",
      "name": "python3"
    },
    "language_info": {
      "codemirror_mode": {
        "name": "ipython",
        "version": 3
      },
      "file_extension": ".py",
      "mimetype": "text/x-python",
      "name": "python",
      "nbconvert_exporter": "python",
      "pygments_lexer": "ipython3",
      "version": "3.7.1"
    },
    "colab": {
      "provenance": []
    }
  },
  "nbformat": 4,
  "nbformat_minor": 0
}