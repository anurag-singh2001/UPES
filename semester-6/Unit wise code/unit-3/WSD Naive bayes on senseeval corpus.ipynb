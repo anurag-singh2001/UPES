{
 "cells": [
  {
   "cell_type": "code",
   "execution_count": null,
   "id": "2e1ab114",
   "metadata": {},
   "outputs": [],
   "source": [
    "# https://www.inf.ed.ac.uk/teaching/courses/fnlp/Tutorials/7_WSD/wsd_code.py"
   ]
  },
  {
   "cell_type": "code",
   "execution_count": 13,
   "id": "5f764253",
   "metadata": {},
   "outputs": [],
   "source": [
    "from __future__ import division\n",
    "import nltk\n",
    "import random\n",
    "from nltk.corpus import senseval\n",
    "from nltk.classify import accuracy, NaiveBayesClassifier, MaxentClassifier\n",
    "from collections import defaultdict"
   ]
  },
  {
   "cell_type": "markdown",
   "id": "4bdc2981",
   "metadata": {},
   "source": [
    "The following shows how the senseval corpus consists of instances, where each instance\n",
    "consists of a target word (and its tag), it position in the sentence it appeared in\n",
    "within the corpus (that position being word position, minus punctuation), and the context,\n",
    "which is the words in the sentence plus their tags. "
   ]
  },
  {
   "cell_type": "code",
   "execution_count": 14,
   "id": "97f02fe3",
   "metadata": {},
   "outputs": [
    {
     "data": {
      "text/plain": [
       "['hard.pos', 'interest.pos', 'line.pos', 'serve.pos']"
      ]
     },
     "execution_count": 14,
     "metadata": {},
     "output_type": "execute_result"
    }
   ],
   "source": [
    "# C:\\Users\\djoshi\\AppData\\Roaming\\nltk_data\\corpora\\senseval\n",
    "senseval.fileids()"
   ]
  },
  {
   "cell_type": "code",
   "execution_count": 17,
   "id": "6962c530",
   "metadata": {},
   "outputs": [
    {
     "data": {
      "text/plain": [
       "SensevalInstance(word='hard-a', position=3, context=[('he', 'PRP'), ('knows', 'VBZ'), ('how', 'WRB'), ('hard', 'JJ'), ('it', 'PRP'), ('can', 'MD'), ('be', 'VB'), (',', ','), ('having', 'VBG'), ('endured', 'VBN'), ('the', 'DT'), ('experience', 'NN'), ('at', 'IN'), ('roughly', 'RB'), ('the', 'DT'), ('same', 'JJ'), ('age', 'NN'), ('.', '.')], senses=('HARD1',))"
      ]
     },
     "execution_count": 17,
     "metadata": {},
     "output_type": "execute_result"
    }
   ],
   "source": [
    "senseval.instances(\"hard.pos\")[1000]"
   ]
  },
  {
   "cell_type": "code",
   "execution_count": 18,
   "id": "64847fc8",
   "metadata": {},
   "outputs": [],
   "source": [
    "# 1. Data prep\n",
    "word= \"hard.pos\"\n",
    "_inst_cache = {}\n",
    "\n",
    "if word not in _inst_cache:\n",
    "    _inst_cache[word] = [(i, i.senses[0]) for i in senseval.instances(word)]\n",
    "\n",
    "all_instances_senses = _inst_cache[word][:]\n",
    "senses = list(set(l for (i, l) in all_instances_senses))\n",
    "instances = [i for (i, l) in all_instances_senses]"
   ]
  },
  {
   "cell_type": "code",
   "execution_count": 19,
   "id": "ee9494f9",
   "metadata": {},
   "outputs": [],
   "source": [
    "# _inst_cache['hard.pos']\n",
    "# [(ins1, sense),(ins1, sense), (ins1, sense),... ]"
   ]
  },
  {
   "cell_type": "code",
   "execution_count": 27,
   "id": "ceae350c",
   "metadata": {},
   "outputs": [],
   "source": [
    "# all_instances_senses = _inst_cache[word][:]\n",
    "# all_instances_senses[0]"
   ]
  },
  {
   "cell_type": "code",
   "execution_count": 28,
   "id": "a8e02710",
   "metadata": {},
   "outputs": [],
   "source": [
    "# senses = list(set(l for (i, l) in all_instances_senses))\n",
    "# instances = [i for (i, l) in all_instances_senses]"
   ]
  },
  {
   "cell_type": "code",
   "execution_count": 19,
   "id": "a322061b",
   "metadata": {},
   "outputs": [
    {
     "data": {
      "text/plain": [
       "['HARD1', 'HARD3', 'HARD2']"
      ]
     },
     "execution_count": 19,
     "metadata": {},
     "output_type": "execute_result"
    }
   ],
   "source": [
    "senses"
   ]
  },
  {
   "cell_type": "code",
   "execution_count": 21,
   "id": "8a2844a6",
   "metadata": {},
   "outputs": [],
   "source": [
    "# instances"
   ]
  },
  {
   "cell_type": "markdown",
   "id": "93a665a8",
   "metadata": {},
   "source": [
    "# 1. Create vocab"
   ]
  },
  {
   "cell_type": "code",
   "execution_count": 23,
   "id": "4e3985e8",
   "metadata": {},
   "outputs": [],
   "source": [
    "stopwords = ['.', ',', '?', '\"', '``', \"''\", \"'\", '--', '-', ':', ';', '(',\n",
    "             ')', '$', '000', '1', '2', '10,' 'I', 'i', 'a', 'about', 'after', 'all', 'also', 'an', 'any',\n",
    "             'are', 'as', 'at', 'and', 'be', 'being', 'because', 'been', 'but', 'by',\n",
    "             'can', \"'d\", 'did', 'do', \"don'\", 'don', 'for', 'from', 'had','has', 'have', 'he',\n",
    "             'her','him', 'his', 'how', 'if', 'is', 'in', 'it', 'its', \"'ll\", \"'m\", 'me',\n",
    "             'more', 'my', 'n', 'no', 'not', 'of', 'on', 'one', 'or', \"'re\", \"'s\", \"s\",\n",
    "             'said', 'say', 'says', 'she', 'so', 'some', 'such', \"'t\", 'than', 'that', 'the',\n",
    "             'them', 'they', 'their', 'there', 'this', 'to', 'up', 'us', \"'ve\", 'was', 'we', 'were',\n",
    "             'what', 'when', 'where', 'which', 'who', 'will', 'with', 'years', 'you',\n",
    "             'your']\n",
    "\n",
    "STOPWORDS_SET=set(stopwords)\n",
    "\n",
    "NO_STOPWORDS = []"
   ]
  },
  {
   "cell_type": "code",
   "execution_count": 25,
   "id": "0246722e",
   "metadata": {},
   "outputs": [
    {
     "data": {
      "text/plain": [
       "SensevalInstance(word='hard-a', position=20, context=[('``', '``'), ('he', 'PRP'), ('may', 'MD'), ('lose', 'VB'), ('all', 'DT'), ('popular', 'JJ'), ('support', 'NN'), (',', ','), ('but', 'CC'), ('someone', 'NN'), ('has', 'VBZ'), ('to', 'TO'), ('kill', 'VB'), ('him', 'PRP'), ('to', 'TO'), ('defeat', 'VB'), ('him', 'PRP'), ('and', 'CC'), ('that', 'DT'), (\"'s\", 'VBZ'), ('hard', 'JJ'), ('to', 'TO'), ('do', 'VB'), ('.', '.'), (\"''\", \"''\")], senses=('HARD1',))"
      ]
     },
     "execution_count": 25,
     "metadata": {},
     "output_type": "execute_result"
    }
   ],
   "source": [
    "instances[0]"
   ]
  },
  {
   "cell_type": "code",
   "execution_count": 31,
   "id": "d11af9c7",
   "metadata": {},
   "outputs": [],
   "source": [
    "def extract_vocab_frequency(instances, stopwords=STOPWORDS_SET, n=300):\n",
    "    \"\"\"\n",
    "    Given a list of senseval instances, return a list of the n most frequent words that\n",
    "    appears in its context (i.e., the sentence with the target word in), output is in order\n",
    "    of frequency \n",
    "    \"\"\"\n",
    "    fd = nltk.FreqDist()\n",
    "    for i in instances:\n",
    "        (target, suffix) = i.word.split('-')\n",
    "        words = (c[0] for c in i.context if not c[0] == target)\n",
    "        for word in set(words) - set(stopwords):\n",
    "            fd[word] += 1\n",
    "    \n",
    "#     print(fd)\n",
    "    return fd.most_common()[:n+1]"
   ]
  },
  {
   "cell_type": "code",
   "execution_count": 34,
   "id": "7bb8446f",
   "metadata": {},
   "outputs": [],
   "source": [
    "# 2. Create vocab (top 300 words having higher frequency)\n",
    "fd=extract_vocab_frequency(instances,stopwords,n=300)\n",
    "# print(fd)\n",
    "vocab= [w for w,f in fd]\n",
    "# vocab[300]"
   ]
  },
  {
   "cell_type": "code",
   "execution_count": 36,
   "id": "ebbe325a",
   "metadata": {},
   "outputs": [],
   "source": [
    "# vocab"
   ]
  },
  {
   "cell_type": "markdown",
   "id": "070f1f05",
   "metadata": {},
   "source": [
    "# create train and test set"
   ]
  },
  {
   "cell_type": "code",
   "execution_count": 37,
   "id": "2bf03c66",
   "metadata": {},
   "outputs": [],
   "source": [
    "# 3. # Split the instances into a training and test set,\n",
    "n = len(all_instances_senses)\n",
    "random.seed(5444522)\n",
    "random.shuffle(all_instances_senses)\n",
    "training_data = all_instances_senses[:int(0.8 * n)]\n",
    "test_data = all_instances_senses[int(0.8 * n):n]"
   ]
  },
  {
   "cell_type": "code",
   "execution_count": 38,
   "id": "879cc324",
   "metadata": {},
   "outputs": [
    {
     "name": "stdout",
     "output_type": "stream",
     "text": [
      "3466\n",
      "867\n"
     ]
    }
   ],
   "source": [
    "print(len(training_data))\n",
    "print(len(test_data))"
   ]
  },
  {
   "cell_type": "code",
   "execution_count": 58,
   "id": "20b112ab",
   "metadata": {},
   "outputs": [
    {
     "data": {
      "text/plain": [
       "(SensevalInstance(word='hard-a', position=6, context=[('a', 'DT'), ('call', 'NN'), ('for', 'IN'), ('reforms', 'NNS'), (';', ':'), ('but', 'CC'), ('hard', 'JJ'), ('work', 'NN'), ('does', 'VBZ'), ('n', 'NN'), (\"'t\", 'NN'), ('always', 'RB'), ('mean', 'VB'), ('pay', 'NN'), (',', ','), ('say', 'VB'), ('activists', 'NNS'), ('.', '.')], senses=('HARD2',)),\n",
       " 'HARD2')"
      ]
     },
     "execution_count": 58,
     "metadata": {},
     "output_type": "execute_result"
    }
   ],
   "source": [
    "training_data[0]"
   ]
  },
  {
   "cell_type": "markdown",
   "id": "f2bd6fd3",
   "metadata": {},
   "source": [
    "# 2. Extract features"
   ]
  },
  {
   "cell_type": "code",
   "execution_count": 39,
   "id": "63dfacf9",
   "metadata": {},
   "outputs": [],
   "source": [
    "# 3. Extract features\n",
    "def wsd_context_features(instance,dist=3):\n",
    "    features = {}\n",
    "    ind = instance.position\n",
    "    con = instance.context\n",
    "    \n",
    "    for i in range(max(0, ind-dist), ind):\n",
    "        j = ind-i\n",
    "        features['left-context-word-%s(%s)' % (j, con[i][0])] = True\n",
    "\n",
    "    for i in range(ind+1, min(ind+dist+1, len(con))):\n",
    "        j = i-ind\n",
    "        features['right-context-word-%s(%s)' % (j, con[i][0])] = True\n",
    "\n",
    " \n",
    "    features['word'] = instance.word\n",
    "    features['pos'] = con[ind][1]\n",
    "    return features"
   ]
  },
  {
   "cell_type": "code",
   "execution_count": 40,
   "id": "f45343ee",
   "metadata": {},
   "outputs": [],
   "source": [
    "train_features= [(wsd_context_features(i, dist=3), label) for (i, label) in training_data]"
   ]
  },
  {
   "cell_type": "code",
   "execution_count": 41,
   "id": "6b66a39c",
   "metadata": {},
   "outputs": [
    {
     "data": {
      "text/plain": [
       "3466"
      ]
     },
     "execution_count": 41,
     "metadata": {},
     "output_type": "execute_result"
    }
   ],
   "source": [
    "len(train_features)"
   ]
  },
  {
   "cell_type": "code",
   "execution_count": 42,
   "id": "c4defb5a",
   "metadata": {},
   "outputs": [
    {
     "data": {
      "text/plain": [
       "({'left-context-word-3(that)': True,\n",
       "  \"left-context-word-2('s)\": True,\n",
       "  'left-context-word-1(pretty)': True,\n",
       "  'right-context-word-1(to)': True,\n",
       "  'right-context-word-2(believe)': True,\n",
       "  'right-context-word-3(,)': True,\n",
       "  'word': 'hard-a',\n",
       "  'pos': 'JJ'},\n",
       " 'HARD1')"
      ]
     },
     "execution_count": 42,
     "metadata": {},
     "output_type": "execute_result"
    }
   ],
   "source": [
    "train_features[3465]"
   ]
  },
  {
   "cell_type": "markdown",
   "id": "2989d01e",
   "metadata": {},
   "source": [
    "# Train the model"
   ]
  },
  {
   "cell_type": "code",
   "execution_count": 43,
   "id": "62a4d49c",
   "metadata": {},
   "outputs": [],
   "source": [
    "classifier = NaiveBayesClassifier.train(train_features)"
   ]
  },
  {
   "cell_type": "markdown",
   "id": "d21af1cf",
   "metadata": {},
   "source": [
    "# Test the model"
   ]
  },
  {
   "cell_type": "code",
   "execution_count": 44,
   "id": "82881161",
   "metadata": {},
   "outputs": [],
   "source": [
    "# get the test features\n",
    "test_features= [(wsd_context_features(i, dist=3), label) for (i, label) in test_data]"
   ]
  },
  {
   "cell_type": "code",
   "execution_count": 45,
   "id": "9326f6c4",
   "metadata": {},
   "outputs": [],
   "source": [
    "acc = accuracy(classifier, test_features)"
   ]
  },
  {
   "cell_type": "code",
   "execution_count": 46,
   "id": "eeda4665",
   "metadata": {},
   "outputs": [
    {
     "data": {
      "text/plain": [
       "0.8973471741637832"
      ]
     },
     "execution_count": 46,
     "metadata": {},
     "output_type": "execute_result"
    }
   ],
   "source": [
    "acc"
   ]
  },
  {
   "cell_type": "code",
   "execution_count": null,
   "id": "4e9efde4",
   "metadata": {},
   "outputs": [],
   "source": []
  }
 ],
 "metadata": {
  "kernelspec": {
   "display_name": "Python 3 (ipykernel)",
   "language": "python",
   "name": "python3"
  },
  "language_info": {
   "codemirror_mode": {
    "name": "ipython",
    "version": 3
   },
   "file_extension": ".py",
   "mimetype": "text/x-python",
   "name": "python",
   "nbconvert_exporter": "python",
   "pygments_lexer": "ipython3",
   "version": "3.9.7"
  }
 },
 "nbformat": 4,
 "nbformat_minor": 5
}
